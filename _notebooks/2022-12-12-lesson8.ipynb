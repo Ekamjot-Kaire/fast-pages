{
 "cells": [
  {
   "attachments": {},
   "cell_type": "markdown",
   "metadata": {},
   "source": [
    "# Section 3.16 \n",
    "> \n",
    "\n",
    "- layout: default\n",
    "- toc: true\n",
    "- badges: false\n",
    "- comments: true\n",
    "- categories: [lesson]"
   ]
  },
  {
   "attachments": {},
   "cell_type": "markdown",
   "metadata": {},
   "source": [
    "# First Order of Business: Get your notebook \n",
    "\n",
    "- Open a terminal in vscode, run command: cd _notebooks, type 'wget' and paste this link into said terminal and run it \n",
    "\n",
    "- Take notes wherever you please, but you will be graded on participating "
   ]
  },
  {
   "attachments": {},
   "cell_type": "markdown",
   "metadata": {},
   "source": [
    "# So, what is a simulation anyway? \n",
    "\n",
    "- A simulation is a tested scenario used for viewing results/outputs to prepare for them in real world situations \n",
    "\n",
    "- These can be used for games like dice rolling, spinners, etc \n",
    "\n",
    "- These can be used for practical things such as building structures, testing car crashes, and other things before engaging in them in the real world \n",
    "\n",
    "- These simulations can have the option of obeying real world physics (Gravity, collision) or they can go against these norms since this is a fictitious scenario, and couldn't happen in real life\n",
    "\n",
    "### Notes: \n",
    "- real world physics don't have to apply in simulations, but can be visualized if needed\n",
    "- allows people to test what would happen without causing damage"
   ]
  },
  {
   "attachments": {},
   "cell_type": "markdown",
   "metadata": {},
   "source": [
    "# Big Question \n",
    "\n",
    "- Which of the following simulations could be the LEAST useful? \n",
    "\n",
    "- A retailer trying to identify which products sold the most \n",
    "- A restaurant determining the efficiency of robots \n",
    "- An insurance company studying the rain impact of cars \n",
    "- A sports bike company studying design changes to their new bike design \n",
    "\n",
    "\n",
    "- If you guessed a bike company, you're wrong, because the retail simulation was the right answer. Simulating robots in food service, studying rain impact on vehicles, and new bike design can contribute a lot more to society in comparison to seeing what products sell more than others. \n",
    "\n",
    "### Notes:\n",
    "- retail simulation is more niche??? \n",
    "- therefore not as useful \n",
    "- more difficult to simulate a sail"
   ]
  },
  {
   "attachments": {},
   "cell_type": "markdown",
   "metadata": {},
   "source": [
    "# Next Big Question \n",
    "\n",
    "If you were making a simulation for making a new train station, which of the following would be true about this simulation? \n",
    "\n",
    "- It could reveal potential problems/safety issues before construction starts \n",
    "- It cannot be used to test the train station in different weather \n",
    "- Simulation will add high costs to projects \n",
    "- Simulation is not needed because this train station already exists  \n",
    "\n",
    "\n",
    "\n",
    "\n",
    "- Potential Safety was the right answer, because you need somewhere to test the safety and ethnics of what you're about to do before you start building it. Otherwise, let's just say you'll have a special plaque for FBI's Most Wanted\n"
   ]
  },
  {
   "attachments": {},
   "cell_type": "markdown",
   "metadata": {},
   "source": [
    "# Simulation 1: \n",
    "\n",
    "Both programs below do the same thing. Given a height and a weight, they calculate how long it will take for a object to fall to the ground in a vacuum subjected to normal Earth levels of gravity. \n",
    "\n",
    "However, the second one is a simulation. It calculates the distance the object has fallen every 0.1 seconds. This is useful for if you wanted a visual representation of a falling object, which pure math can't do as smoothly. "
   ]
  },
  {
   "cell_type": "code",
   "execution_count": 1,
   "metadata": {},
   "outputs": [
    {
     "name": "stdout",
     "output_type": "stream",
     "text": [
      "It will take 1.1693361102674928 seconds for an object that weighs 45 pounds to fall  6.7 meters in a vacuum\n"
     ]
    }
   ],
   "source": [
    "height = float(input(\"height in meters?\"))\n",
    "\n",
    "weight = input(\"weight in pounds?\")\n",
    "\n",
    "stuff = (2 * (height / 9.8))**(1/2)\n",
    "\n",
    "print(\"It will take\", stuff,\"seconds for an object that weighs\",weight,\"pounds\",\"to fall \",height,\"meters in a vacuum\")"
   ]
  },
  {
   "cell_type": "code",
   "execution_count": 6,
   "metadata": {},
   "outputs": [
    {
     "name": "stdout",
     "output_type": "stream",
     "text": [
      "1.2\n",
      "7.056\n"
     ]
    }
   ],
   "source": [
    "t = 0\n",
    "g = 0\n",
    "d = 0\n",
    "false = True\n",
    "while false:\n",
    "    t = t + 0.1\n",
    "    d = 9.8 / 2 * (t**2)\n",
    "    if d >= height:\n",
    "        false = False\n",
    "    #print(d) # if you want to print the distance every time it calculates it. Too long to output to a terminal, but this could be useful to display graphically. \n",
    "    #print(t)\n",
    "\n",
    "print(t)\n",
    "print(d)"
   ]
  },
  {
   "attachments": {},
   "cell_type": "markdown",
   "metadata": {},
   "source": [
    "# Simulation 2: \n",
    "\n",
    "- This simulation is made in order to simulate movement on a 2d plane vs a 3d plane.  \n",
    "\n",
    "- How it works: we have multiple variables, if statements and equations under a while command in order to randomy generate steps on a 2d plane. Once it reaches the set destination, it will say that the man made it home after x amount of steps. \n",
    "\n",
    "- For the 3D plane, it takes a lot longer due to how big and open the 3d environment is, so there are more if statements in the 3d plane \n",
    "\n",
    "(explain further)\n",
    "\n"
   ]
  },
  {
   "cell_type": "code",
   "execution_count": 7,
   "metadata": {},
   "outputs": [
    {
     "name": "stdout",
     "output_type": "stream",
     "text": [
      "The Man Has Made It Home After  4 Turns\n",
      "The Man Has Made It Home After  259698 Turns\n",
      "The Man Has Made It Home After  2 Turns\n",
      "The Man Has Made It Home After  4 Turns\n",
      "( 412 724 )\n",
      "( 441 -259 )\n",
      "( -787 -1941 )\n",
      "( -2460 -1278 )\n",
      "( -3682 -1520 )\n",
      "( -3482 -418 )\n",
      "( -3511 -397 )\n",
      "( -3409 -71 )\n",
      "( -3239 -667 )\n",
      "( -2746 -1026 )\n",
      "Caped\n",
      "The Man Has Made It Home After  2 Turns\n",
      "The Man Has Made It Home After  1966 Turns\n",
      "The Man Has Made It Home After  4 Turns\n",
      "The Man Has Made It Home After  30 Turns\n",
      "The Man Has Made It Home After  26 Turns\n",
      "( 971 167 )\n",
      "( 404 136 )\n",
      "( 1547 967 )\n",
      "( 1532 794 )\n",
      "( 2161 1057 )\n",
      "( 925 1009 )\n",
      "( 710 1788 )\n"
     ]
    },
    {
     "ename": "KeyboardInterrupt",
     "evalue": "",
     "output_type": "error",
     "traceback": [
      "\u001b[0;31m---------------------------------------------------------------------------\u001b[0m",
      "\u001b[0;31mKeyboardInterrupt\u001b[0m                         Traceback (most recent call last)",
      "\u001b[1;32m/Users/ekamjotkaire/csp/fast-pages/_notebooks/2022-12-12-lesson8.ipynb Cell 10\u001b[0m in \u001b[0;36m<cell line: 9>\u001b[0;34m()\u001b[0m\n\u001b[1;32m     <a href='vscode-notebook-cell:/Users/ekamjotkaire/csp/fast-pages/_notebooks/2022-12-12-lesson8.ipynb#X12sZmlsZQ%3D%3D?line=10'>11</a>\u001b[0m \u001b[39mif\u001b[39;00m step \u001b[39m==\u001b[39m \u001b[39m0\u001b[39m:\n\u001b[1;32m     <a href='vscode-notebook-cell:/Users/ekamjotkaire/csp/fast-pages/_notebooks/2022-12-12-lesson8.ipynb#X12sZmlsZQ%3D%3D?line=11'>12</a>\u001b[0m     x \u001b[39m=\u001b[39m x\u001b[39m+\u001b[39m\u001b[39m1\u001b[39m\n\u001b[0;32m---> <a href='vscode-notebook-cell:/Users/ekamjotkaire/csp/fast-pages/_notebooks/2022-12-12-lesson8.ipynb#X12sZmlsZQ%3D%3D?line=12'>13</a>\u001b[0m \u001b[39mif\u001b[39;00m step \u001b[39m==\u001b[39m \u001b[39m1\u001b[39m:\n\u001b[1;32m     <a href='vscode-notebook-cell:/Users/ekamjotkaire/csp/fast-pages/_notebooks/2022-12-12-lesson8.ipynb#X12sZmlsZQ%3D%3D?line=13'>14</a>\u001b[0m     x \u001b[39m=\u001b[39m x\u001b[39m-\u001b[39m\u001b[39m1\u001b[39m\n\u001b[1;32m     <a href='vscode-notebook-cell:/Users/ekamjotkaire/csp/fast-pages/_notebooks/2022-12-12-lesson8.ipynb#X12sZmlsZQ%3D%3D?line=14'>15</a>\u001b[0m \u001b[39mif\u001b[39;00m step \u001b[39m==\u001b[39m \u001b[39m2\u001b[39m:\n",
      "\u001b[0;31mKeyboardInterrupt\u001b[0m: "
     ]
    }
   ],
   "source": [
    "import random\n",
    "x = 0\n",
    "y = 0\n",
    "nights = 0\n",
    "turn = 0\n",
    "stopped = 0\n",
    "turns = []\n",
    "\n",
    "while (nights < 100):\n",
    "    step = random.randrange(4)\n",
    "    if step == 0:\n",
    "        x = x+1\n",
    "    if step == 1:\n",
    "        x = x-1\n",
    "    if step == 2:\n",
    "        y = y+1\n",
    "    if step == 3:\n",
    "        y = y-1\n",
    "\n",
    "    turn = turn + 1\n",
    "\n",
    "    if x == 0 and y == 0:\n",
    "        nights = nights + 1\n",
    "        print(\"The Man Has Made It Home After \", turn, \"Turns\")\n",
    "        turns.append(turn)\n",
    "        turn = 0\n",
    "    if turn/1000 % 1000 == 0 and x + y != 0:\n",
    "        print(\"(\", x,y, \")\")\n",
    "    if (turn > 10000000):\n",
    "        stopped = stopped + 1\n",
    "        turn = 0\n",
    "        x = 0\n",
    "        y = 0\n",
    "        nights = nights + 1\n",
    "        print(\"Caped\")\n",
    "\n",
    "average = sum(turns) / len(turns)\n",
    "print(\"Avaerage\", average, \"Ones that when't too long \", stopped)"
   ]
  },
  {
   "cell_type": "code",
   "execution_count": 1,
   "metadata": {},
   "outputs": [
    {
     "name": "stdout",
     "output_type": "stream",
     "text": [
      "( -816 203 )  |  -583\n",
      "( -1055 -952 )  |  -565\n",
      "( -1910 -230 )  |  554\n",
      "( -1559 -413 )  |  -364\n",
      "( -867 -1264 )  |  -279\n",
      "( -774 -1330 )  |  192\n",
      "( -875 -1931 )  |  -154\n"
     ]
    },
    {
     "ename": "KeyboardInterrupt",
     "evalue": "",
     "output_type": "error",
     "traceback": [
      "\u001b[0;31m---------------------------------------------------------------------------\u001b[0m",
      "\u001b[0;31mKeyboardInterrupt\u001b[0m                         Traceback (most recent call last)",
      "\u001b[1;32m/Users/ekamjotkaire/csp/fast-pages/_notebooks/2022-12-12-lesson8.ipynb Cell 11\u001b[0m in \u001b[0;36m<cell line: 10>\u001b[0;34m()\u001b[0m\n\u001b[1;32m     <a href='vscode-notebook-cell:/Users/ekamjotkaire/csp/fast-pages/_notebooks/2022-12-12-lesson8.ipynb#X13sZmlsZQ%3D%3D?line=30'>31</a>\u001b[0m     turns\u001b[39m.\u001b[39mappend(turn)\n\u001b[1;32m     <a href='vscode-notebook-cell:/Users/ekamjotkaire/csp/fast-pages/_notebooks/2022-12-12-lesson8.ipynb#X13sZmlsZQ%3D%3D?line=31'>32</a>\u001b[0m     turn \u001b[39m=\u001b[39m \u001b[39m0\u001b[39m\n\u001b[0;32m---> <a href='vscode-notebook-cell:/Users/ekamjotkaire/csp/fast-pages/_notebooks/2022-12-12-lesson8.ipynb#X13sZmlsZQ%3D%3D?line=32'>33</a>\u001b[0m \u001b[39mif\u001b[39;00m turn\u001b[39m/\u001b[39;49m\u001b[39m1000\u001b[39;49m \u001b[39m%\u001b[39;49m \u001b[39m1000\u001b[39;49m \u001b[39m==\u001b[39;49m \u001b[39m0\u001b[39;49m \u001b[39mand\u001b[39;00m x \u001b[39m+\u001b[39m y \u001b[39m+\u001b[39m z \u001b[39m!=\u001b[39m \u001b[39m0\u001b[39m:\n\u001b[1;32m     <a href='vscode-notebook-cell:/Users/ekamjotkaire/csp/fast-pages/_notebooks/2022-12-12-lesson8.ipynb#X13sZmlsZQ%3D%3D?line=33'>34</a>\u001b[0m     \u001b[39mprint\u001b[39m(\u001b[39m\"\u001b[39m\u001b[39m(\u001b[39m\u001b[39m\"\u001b[39m, x,y, \u001b[39m\"\u001b[39m\u001b[39m) \u001b[39m\u001b[39m\"\u001b[39m,\u001b[39m\"\u001b[39m\u001b[39m| \u001b[39m\u001b[39m\"\u001b[39m, z)\n\u001b[1;32m     <a href='vscode-notebook-cell:/Users/ekamjotkaire/csp/fast-pages/_notebooks/2022-12-12-lesson8.ipynb#X13sZmlsZQ%3D%3D?line=34'>35</a>\u001b[0m \u001b[39m#Too long Stoper\u001b[39;00m\n",
      "\u001b[0;31mKeyboardInterrupt\u001b[0m: "
     ]
    }
   ],
   "source": [
    "import random\n",
    "x = 0\n",
    "y = 0\n",
    "z = 0\n",
    "nights = 0\n",
    "turn = 0\n",
    "stopped = 0\n",
    "turns = []\n",
    "\n",
    "while (nights < 100):\n",
    "    #rando movement\n",
    "    step = random.randrange(6)\n",
    "    if step == 0:\n",
    "        x = x+1\n",
    "    if step == 1:\n",
    "        x = x-1\n",
    "    if step == 2:\n",
    "        y = y+1\n",
    "    if step == 3:\n",
    "        y = y-1\n",
    "    if step == 4:\n",
    "        z = z+1\n",
    "    if step == 5:\n",
    "        z = z-1\n",
    "    #Turn counter\n",
    "    turn = turn + 1\n",
    "    #Goal check\n",
    "    if x == 0 and y == 0 and z == 0:\n",
    "        nights = nights + 1\n",
    "        print(\"The Bird Has Made It Home After \", turn, \"Turns\")\n",
    "        turns.append(turn)\n",
    "        turn = 0\n",
    "    if turn/1000 % 1000 == 0 and x + y + z != 0:\n",
    "        print(\"(\", x,y, \") \",\"| \", z)\n",
    "    #Too long Stoper\n",
    "    if (turn > 10000000):\n",
    "        stopped = stopped + 1\n",
    "        turn = 0\n",
    "        x = 0\n",
    "        y = 0\n",
    "        z = 0\n",
    "        nights = nights + 1\n",
    "        print(\"Caped\")\n",
    "\n",
    "average = sum(turns) / len(turns)\n",
    "print(\"Avaerage\", average,\"Ones that when't too long \", stopped)"
   ]
  },
  {
   "attachments": {},
   "cell_type": "markdown",
   "metadata": {},
   "source": [
    "# Simulations in the wild\n",
    "\n",
    "Simulations are used extremely frequently in real life applications. One of the most common examples of simulations are video games. A games physics engine can accurately simulate objects colliding \n",
    "\n",
    "Another example is Blender, the software used in 3d animations class, here at Del Norte. Blender is made up of many small simulations, but one big one it uses is simulating the way light bounces off of and interacts with objects. \n"
   ]
  },
  {
   "attachments": {},
   "cell_type": "markdown",
   "metadata": {},
   "source": [
    "# HW !!!\n",
    "\n",
    "Create a simulation. It can be anything, just has to simulate something.\n",
    "\n",
    "Some ideas:\n",
    "\n",
    "- Two objects colliding\n",
    "- Gravity on other planets\n",
    "\n",
    "AND\n",
    "\n",
    "Find an example of a simulation in a software/game you use, screenshot, and explain how it is a simulation"
   ]
  },
  {
   "cell_type": "markdown",
   "metadata": {},
   "source": [
    "### This is a simulation of the game hangman: "
   ]
  },
  {
   "cell_type": "code",
   "execution_count": 3,
   "metadata": {},
   "outputs": [
    {
     "name": "stdout",
     "output_type": "stream",
     "text": [
      "player 1: pick a word\n",
      "\n",
      "current board\n",
      "['-', '-', '-']\n",
      "player 2, pick a letter\n",
      "your choice: f\n",
      "that letter is not in this word!\n",
      "\n",
      "\n",
      "current board\n",
      "['-', '-', '-']\n",
      "player 2, pick a letter\n",
      "your choice: c\n",
      "\n",
      "current board\n",
      "['c', '-', '-']\n",
      "player 2, pick a letter\n",
      "your choice: a\n",
      "\n",
      "current board\n",
      "['c', 'a', '-']\n",
      "player 2, pick a letter\n",
      "your choice: t\n",
      "game over, you guessed the word!\n"
     ]
    },
    {
     "ename": "SystemExit",
     "evalue": "",
     "output_type": "error",
     "traceback": [
      "An exception has occurred, use %tb to see the full traceback.\n",
      "\u001b[0;31mSystemExit\u001b[0m\n"
     ]
    }
   ],
   "source": [
    "import sys\n",
    "\n",
    "#picking a word:\n",
    "print(\"player 1: pick a word\")\n",
    "word = input(\"\").lower()\n",
    "blank = \"-\" \n",
    "\n",
    "#defining variables\n",
    "MAX_WRONG_GUESS = 5 #max amount of wrong guesses allowed\n",
    "letters = list(word) #separating all letters into a separate index in a new list\n",
    "wrong_guess = 0 #total amount of wrong guesses done\n",
    "\n",
    "#empty list used to show progress.. anytime a correct letter is guessed, the dashes will change to that letter\n",
    "guesses = [] \n",
    "for n in letters:\n",
    "    guesses.append(\"-\")\n",
    "    \n",
    "#procedure used to show board after every change\n",
    "def progress():\n",
    "    print(\"\")\n",
    "    print(\"current board\")\n",
    "    print(str(guesses))\n",
    "        \n",
    "            \n",
    "\n",
    "#procedure for guessing a letter\n",
    "def round():\n",
    "    global wrong_guess #global makes it so that a variable defined earlier can also be used in this function\n",
    "    global guesses\n",
    "    print(\"player 2, pick a letter\") #player picks letter\n",
    "    choice = input(\"\")\n",
    "    print(\"your choice:\", choice)\n",
    "    n = 0 \n",
    "    found = 0\n",
    "    for a in letters:\n",
    "        if choice == letters[n]:\n",
    "            guesses[n] = choice\n",
    "            found = 1 \n",
    "        n = n + 1\n",
    "    if ( found == 0 ): #if the guessed letter is not found in the word\n",
    "        wrong_guess = wrong_guess + 1 \n",
    "        print(\"that letter is not in this word!\")\n",
    "        print(\"\")\n",
    "    \n",
    "\n",
    "while (wrong_guess < MAX_WRONG_GUESS ):\n",
    "    progress()\n",
    "    round()\n",
    "    if blank not in guesses: #checks to see if the word has been correctly guessed\n",
    "        print(\"game over, you guessed the word!\")\n",
    "        sys.exit() #this command will result in a traceback error, however exit() and quit() were not working\n",
    "if ( wrong_guess >= MAX_WRONG_GUESS) : #if max amount of incorrect guesses allowed had been reached\n",
    "    print(\"too many wrong guesses.. game over :(\") \n",
    "    print(\"the correct word was:\", word)  \n",
    "\n",
    "        \n"
   ]
  },
  {
   "cell_type": "markdown",
   "metadata": {},
   "source": [
    "**I could not figure out how to exit the code without using SystemExit, which results in a traceback error"
   ]
  },
  {
   "cell_type": "markdown",
   "metadata": {},
   "source": [
    "### Example of a simulation in a video game: "
   ]
  },
  {
   "cell_type": "markdown",
   "metadata": {},
   "source": [
    "![](/Users/ekamjotkaire/csp/fast-pages/images/shorthike.png)\n",
    "\n",
    "This is a screenshot from a video game, where you have to hit the ball with the stick across the net. This counts as a simulation, because the game predicts where the ball would land in real life based on the angle that you hit the ball in. On top of that, the ball bounces and interacts with the environment, which are more examples of a simulation."
   ]
  }
 ],
 "metadata": {
  "kernelspec": {
   "display_name": "Python 3.9.12 ('base')",
   "language": "python",
   "name": "python3"
  },
  "language_info": {
   "codemirror_mode": {
    "name": "ipython",
    "version": 3
   },
   "file_extension": ".py",
   "mimetype": "text/x-python",
   "name": "python",
   "nbconvert_exporter": "python",
   "pygments_lexer": "ipython3",
   "version": "3.9.12"
  },
  "orig_nbformat": 4,
  "vscode": {
   "interpreter": {
    "hash": "0f949f575de49a1a8cd4f0d30b0da0a6a4839cc972748a1d0962ff07d579e36d"
   }
  }
 },
 "nbformat": 4,
 "nbformat_minor": 2
}
