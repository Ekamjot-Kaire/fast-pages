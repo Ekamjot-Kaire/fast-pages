{
 "cells": [
  {
   "cell_type": "markdown",
   "metadata": {},
   "source": [
    "# Unit 3 Vocab\n",
    "> \n",
    "\n",
    "- title: Unit 3 Vocab\n",
    "- toc: true\n",
    "- badges: false"
   ]
  },
  {
   "cell_type": "markdown",
   "metadata": {},
   "source": [
    "## Lessons so far \n",
    "- 1: Sections 3.1 and 3.2: Variables, Assignments, and Data Abstractions \n",
    "- 2: Sections 3.3 and 3.4: Mathematical Expressions and Strings\n",
    "- 3: Sections 3.5, 3.6, and 3.7: Boolean Expression, Conditionals, and Nested Conditionals\n",
    "- 4: Sections 3.8 and 3.10: Boolean Iteration and Lists\n",
    "- 5: Sections 3.9 and 3.11: Developing Algorithms and Binary Search\n",
    "- 6: Sections 3.12 and 3.13: Calling and Developing Procedures"
   ]
  },
  {
   "cell_type": "markdown",
   "metadata": {},
   "source": [
    "## Vocab:\n",
    "\n",
    "# Variables\n",
    "\n",
    "Used to store a value, and organize data with a label. A variable consists of a name, a value, and the type of that value."
   ]
  },
  {
   "cell_type": "code",
   "execution_count": null,
   "metadata": {},
   "outputs": [],
   "source": [
    "fruit = \"apple\" #fruit is the name, 'apple' is the value, and string is the type\n",
    "score = 0 #score is the name, 0 is the value, integer is the type"
   ]
  },
  {
   "cell_type": "markdown",
   "metadata": {},
   "source": [
    "Lessons that discuss this: \n",
    "- Lesson 1\n",
    "- Lesson 2\n",
    "\n",
    "<br> \n",
    "\n",
    "# Data Types\n",
    "\n",
    "There are 3 data types: integer (a number), string (text), and boolean (states whether something is true or false). All three can be stored in variables\n"
   ]
  },
  {
   "cell_type": "code",
   "execution_count": null,
   "metadata": {},
   "outputs": [],
   "source": [
    "integer = 9\n",
    "\n",
    "string = \"words\" #surrounded by quotations\n",
    "\n",
    "boolean = False # True or false"
   ]
  },
  {
   "cell_type": "markdown",
   "metadata": {},
   "source": [
    "Lessons that discuss this: \n",
    "- Lesson 1\n",
    "- Lesson 2\n",
    "\n",
    "<br> \n",
    "\n",
    "# Assignment Operators\n",
    "\n",
    "Allows a program to change the value or variables \n",
    "\n",
    "| Operator | Description | Syntax | Outcome when print |\n",
    "|-|-|-|-|\n",
    "| = | Assign value of right to left | a = b | b |\n",
    "| += | Adds right and left together and assigns that value to right | a += b | a + b |\n",
    "| -= | Subtracts left from right and assigns that value to right | a -= b | a - b |\n",
    "| *= | Multiplies right with left and assigns that value to left | a *= b | a * b |\n",
    "| /= | Divides left with right and assigns that value to left | a /= b | a / b |\n",
    "| **= | Calculates exponent(raise power) value using and assigns that value to left  | a **= b | a ^ b |\n",
    "\n",
    "<br>\n",
    "\n",
    "Lessons that discuss this: \n",
    "- Lesson 1\n",
    "- Lesson 2\n",
    "\n",
    "<br>\n",
    "\n",
    "# Lists \n",
    "\n",
    "A sequence of values stored under one variable. Used to store multiple related values under one label and help organize code better\n"
   ]
  },
  {
   "cell_type": "code",
   "execution_count": null,
   "metadata": {},
   "outputs": [],
   "source": [
    "#just like variable, any value can be stored in lists\n",
    "\n",
    "fruits = [\"apple\", \"pear\", \"banana\"]\n",
    "scores = [90, 87, 45]"
   ]
  },
  {
   "cell_type": "markdown",
   "metadata": {},
   "source": [
    "Lessons that discuss this:\n",
    "- Lesson 3\n",
    "\n",
    "<br> \n",
    "\n",
    "# 2D Lists/ Arrays (Matrix)\n",
    "\n",
    "A list made up of lists. Allows lists to have 2 dimensions, divided up in rows and columns"
   ]
  },
  {
   "cell_type": "code",
   "execution_count": null,
   "metadata": {},
   "outputs": [],
   "source": [
    "tic_tac_toe =[[\"0\", \"X\", \"0\"],\n",
    "              [\"0\", \"0\", \"X\"],\n",
    "              [\"X\", \"X\", \"0\"]]\n",
    "\n",
    "# one way to print w/ dimensionality: \n",
    "\n",
    "m = 0\n",
    "while m < len(tic_tac_toe):\n",
    "    print(*tic_tac_toe[m]) # the * tells the program to print the values as strings\n",
    "    m = m + 1"
   ]
  },
  {
   "cell_type": "markdown",
   "metadata": {},
   "source": [
    "Lessons that discuss this:\n",
    "- Lesson 4:\n",
    "\n",
    "<br>\n",
    "\n",
    "### Dictionaries\n",
    "\n",
    "Used to store values in pairs. The value on the left is the key while the value on the right is the value. A dictionary can't have duplicate keys with different values."
   ]
  },
  {
   "cell_type": "code",
   "execution_count": null,
   "metadata": {},
   "outputs": [],
   "source": [
    "info = {\"name\": \"Ekam\",\n",
    "        \"grade\": 11,\n",
    "        \"YOB\": 2006}\n",
    "\n",
    "print(info[\"name\"]) #putting a key in square brackets causes the value to be printed"
   ]
  },
  {
   "cell_type": "markdown",
   "metadata": {},
   "source": [
    "Lessons that discuss this: ??\n",
    "\n",
    "<br> \n",
    "\n",
    "# Algorithms\n",
    "\n",
    "A set of instructions that can can achieve a task\n",
    "\n",
    "Lessons that discuss this: \n",
    "- Lesson 2\n",
    "\n",
    "<br>\n",
    "\n",
    "### Sequencing,  Selection, and Iteration \n",
    "\n",
    "Parts of an algorithm: \n",
    "- Sequencing: The specific order of the steps of an algorithm. Changing the sequencing can change the outcome \n",
    "- Selection: Making a decision (if this is true, do these steps.. if not, do these steps)\n",
    "- Iteration: Repeating a part of code for a defined number of times, or even forever (while loops)\n",
    "\n",
    "Lessons that discuss this:\n",
    "- Lesson 2\n",
    "\n",
    "<br>\n",
    "\n",
    "# Expressions:\n",
    "\n",
    "Mathematical expressions that can be put into code \n",
    "\n",
    "| Operation | Syntax | \n",
    "| - | - | \n",
    "| x + y | Addition | \n",
    "| x - y | Subtraction | \n",
    "| x * y | Multiplication | \n",
    "| x / y | Division | \n",
    "| x // y | Quotient | \n",
    "| x % y | Remainder | \n",
    "| x ** y | Exponentiation | \n",
    "\n",
    "\n",
    "Lessons that discuss this: \n",
    "- Lesson 2\n",
    "\n",
    "<br> \n",
    "\n",
    "# Comparison Operators:\n",
    "\n",
    "Used to compare two values with each other.. useful in Boolean expressions\n",
    "\n",
    "| Operator | Description| \n",
    "| - | - |\n",
    "| > | Greater than | \n",
    "| < | Less than | \n",
    "| == | Equal to | \n",
    "| != | Not equal to | \n",
    "| >= | Greater than or equal to | \n",
    "| <= | Less than or equal to | \n",
    "\n",
    "Lessons that discuss this: \n",
    "- Lesson 3\n",
    "\n",
    "<br> \n",
    "\n",
    "# Boolean Expressions and Selection/Iteration:\n",
    "\n",
    "Boolean is whether something is true or false. Selections can be made based on boolean expressions, where different outcomes are given when something is true or false. One type of selection could be whether to repeat a certain loop or not, and the decision is made based on a Boolean expression. This could be achieved with while loops\n"
   ]
  },
  {
   "cell_type": "code",
   "execution_count": 4,
   "metadata": {},
   "outputs": [
    {
     "name": "stdout",
     "output_type": "stream",
     "text": [
      "The number is small\n",
      "6\n",
      "7\n",
      "8\n",
      "9\n",
      "10\n"
     ]
    }
   ],
   "source": [
    "num = 5\n",
    "\n",
    "# selection:\n",
    "if num < 100 : \n",
    "    print(\"The number is small\")\n",
    "else: \n",
    "    print (\"The number is large\")\n",
    "    \n",
    "# iteration: \n",
    "\n",
    "while num < 10:\n",
    "    num = num + 1\n",
    "    print(num)"
   ]
  },
  {
   "cell_type": "markdown",
   "metadata": {},
   "source": [
    "Lessons that discuss this: \n",
    "- Lesson 3 \n",
    "\n",
    "<br> \n",
    "\n",
    "# Truth Tables: \n",
    "\n",
    "Tables used to organize different possible combinations and whether they would be true or not based on the given parameters: \n",
    "\n",
    "Ex: A is true, B is false\n",
    "\n",
    "*find example later -- cant find which section talked about it*\n",
    "\n",
    "Lessons that discuss this: \n",
    "?\n",
    "\n",
    "<br> \n",
    "\n",
    "# Characters [not talked about yet]\n",
    "\n",
    "# Strings: \n",
    "\n",
    "A string is a type of value, that includes text. Strings are usually denoted by surrounding the text in quotation marks. Even numbers can be classified as strings if they're put in quotation marks\n",
    "\n",
    "Lessons that discuss this:\n",
    "- Lesson 1\n",
    "\n",
    "<br> \n",
    "\n",
    "# Length [not talked about yet]\n",
    "\n",
    "# Concatenation: \n",
    "\n",
    "\n"
   ]
  }
 ],
 "metadata": {
  "kernelspec": {
   "display_name": "Python 3.10.6 64-bit",
   "language": "python",
   "name": "python3"
  },
  "language_info": {
   "codemirror_mode": {
    "name": "ipython",
    "version": 3
   },
   "file_extension": ".py",
   "mimetype": "text/x-python",
   "name": "python",
   "nbconvert_exporter": "python",
   "pygments_lexer": "ipython3",
   "version": "3.10.6"
  },
  "orig_nbformat": 4,
  "vscode": {
   "interpreter": {
    "hash": "aee8b7b246df8f9039afb4144a1f6fd8d2ca17a180786b69acc140d282b71a49"
   }
  }
 },
 "nbformat": 4,
 "nbformat_minor": 2
}
