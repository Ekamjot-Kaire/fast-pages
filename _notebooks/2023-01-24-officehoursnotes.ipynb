{
 "cells": [
  {
   "attachments": {},
   "cell_type": "markdown",
   "metadata": {},
   "source": [
    "# Example Project Review Presentation Notes\n",
    "\n",
    "- title: Example Project Review Presentation Notes\n",
    "- toc: false\n",
    "- badges: false\n",
    "- categories: []"
   ]
  },
  {
   "attachments": {},
   "cell_type": "markdown",
   "metadata": {},
   "source": [
    "### 1) PURPOSE VS FUNCTION\n",
    "- specify the distinction between purpose and function \n",
    "- any goals for what you might hope to accomplish with the project \n",
    "\n",
    "### 2) FEATURES\n",
    "- go over each feature one by one and explain how they add to the overall function of the project\n",
    "- CRUD features \n",
    "- security features \n",
    "- frontend of the features to show what they will look like in the final product \n",
    "\n",
    "### 3) OVERALL SYSTEM \n",
    "- have a diagram of how the overall system works, including hosting server, the database, the api, etc) \n",
    "- modeling relationships \n",
    "- talk about the database, including what information its storing and how using the database contributes to the overall functionality of the project \n",
    "\n",
    "### 4) PROJECT DEVELOPMENT PLAN / FUTURE FEATURES\n",
    "- explain what major features need to be finished, and the plan that the team has created on when they will be finished (schedule??)\n",
    "- talk about any possible future features or concepts that could be implemented if the project were to be taken further \n",
    "- scrum board \n",
    "- team manifesto \n"
   ]
  }
 ],
 "metadata": {
  "kernelspec": {
   "display_name": "Python 3",
   "language": "python",
   "name": "python3"
  },
  "language_info": {
   "name": "python",
   "version": "3.10.6 (v3.10.6:9c7b4bd164, Aug  1 2022, 17:13:48) [Clang 13.0.0 (clang-1300.0.29.30)]"
  },
  "orig_nbformat": 4,
  "vscode": {
   "interpreter": {
    "hash": "aee8b7b246df8f9039afb4144a1f6fd8d2ca17a180786b69acc140d282b71a49"
   }
  }
 },
 "nbformat": 4,
 "nbformat_minor": 2
}
