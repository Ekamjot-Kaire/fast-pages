{
 "cells": [
  {
   "attachments": {},
   "cell_type": "markdown",
   "metadata": {},
   "source": [
    "# College Board Scoring Assignment 2 \n",
    "\n",
    "- title: College Board Scoring Assignment 2\n",
    "- toc: false\n",
    "- badges: false\n",
    "- categories: []"
   ]
  },
  {
   "attachments": {},
   "cell_type": "markdown",
   "metadata": {},
   "source": [
    "## Student 1: \n",
    "\n",
    "| Row: Category | My Score | Notes | \n",
    "| - | - | - | \n",
    "| 1: Program Purpose and Function | 0 | The student did not describe the purpose or the functionality. The student also switch the input and output (<strong>College Board score: 0 </strong>)| \n",
    "| 2: Data Abstraction | 0 | The student does not show the list being used in code, nor is the list complex enough (<strong>College Board score: 0 </strong>)| \n",
    "| 3: Managing Complexity | 0 | The response doesn't include the code which uses the list to make it less complex. It also doesn't properly explain hoe the list makes the code less complex (<strong>College Board score: 0 </strong>)| \n",
    "| 4: Procedural Abstraction | 1 | The response includes both the procedure, and what the procedure does (<strong>College Board score: 0 </strong>) | \n",
    "| 5: Algorithm Implementation | 0 | The procedure includes sequencing, iteration, and selection. However, there is not enough of a description of this (<strong>College Board score: 0 </strong>) |\n",
    "| 6: Testing | 1 | The student describes what inputs are being added, why those specific inputs were chosen and what they are meant to test (<strong>College Board score: 1 </strong>) | \n",
    "\n",
    "\n",
    "### Overall Score: 2/6 \n",
    "\n",
    "### Differences Between My Score and College Board: \n",
    "\n",
    "- Row 4: I gave the student a 1, while College Board gave them a 0. This is the student did not mention how the procedure contributes to the overall project, just how the procedure itself works\n"
   ]
  },
  {
   "attachments": {},
   "cell_type": "markdown",
   "metadata": {},
   "source": [
    "## Student 2: \n",
    "\n",
    "| Row: Category | My Score | Notes | \n",
    "| - | - | - | \n",
    "| 1: Program Purpose and Function | 1 | BOTH the function and purpose are mentioned, and they are different from each other. (<strong>College Board score: 1 </strong>)| \n",
    "| 2: Data Abstraction | 1 | A list is named, shown, and the data that is stored in it is described  (<strong>College Board score: 1 </strong>)| \n",
    "| 3: Managing Complexity | 1 | Says how the list decreases complexity, and what would have happened if the list had not been used (<strong>College Board score: 1 </strong>)| \n",
    "| 4: Procedural Abstraction | 1 | The procedure createPoems is named, and the response describes how the procedure puts the whole poem together, which contributes to the overall functionality (<strong> College Board score: 1 </strong>) | \n",
    "| 5: Algorithm Implementation | 1 | The selection, iteration, and sequencing of the procedure is describes in full detail (<strong>College Board score: 1 </strong>) |\n",
    "| 6: Testing | 1 | Two different calls are written in the response, and what they are both meant to test. Then the output is shown, and the student explains how that shows that the code works properly.(<strong>College Board score: 1 </strong>) | \n",
    "\n",
    "\n",
    "### Overall Score: 6/6 \n",
    "\n",
    "### Differences Between My Score and College Board: \n",
    "\n",
    "None :)"
   ]
  },
  {
   "attachments": {},
   "cell_type": "markdown",
   "metadata": {},
   "source": [
    "## Student 3: \n",
    "\n",
    "| Row: Category | My Score | Notes | \n",
    "| - | - | - | \n",
    "| 1: Program Purpose and Function | 1 | The function is shown in the video and the purpose is specified (<strong>College Board score: 1 </strong>)| \n",
    "| 2: Data Abstraction | 0 | Two sets of code are given, but while one of them shows a list being created, none of the code segments show the list being used in the actual program(<strong>College Board score: 0 </strong>)| \n",
    "| 3: Managing Complexity | 1 | The response explains how the list can be used to manage complexity(<strong>College Board score: 0 </strong>)| \n",
    "| 4: Procedural Abstraction | 0 | The code defining the procedure is shown, but there is no code calling the procedure  (<strong> College Board score: 0 </strong>) | \n",
    "| 5: Algorithm Implementation | 0 | There is no iteration in the procedure (<strong>College Board score: 0 </strong>) |\n",
    "| 6: Testing | 0 | The two different sitatuations being tested by the calls given are not explained(<strong>College Board score: 0 </strong>) | \n",
    "\n",
    "\n",
    "### Overall Score: 2/6 \n",
    "\n",
    "### Differences Between My Score and College Board: \n",
    "\n",
    "- Row 3: The explanation for managing complexity is vague and isnt specific to this project\n",
    "\n"
   ]
  },
  {
   "attachments": {},
   "cell_type": "markdown",
   "metadata": {},
   "source": [
    "## Student 4: \n",
    "\n",
    "| Row: Category | My Score | Notes | \n",
    "| - | - | - | \n",
    "| 1: Program Purpose and Function | 1 | The function is shown in the video. The purpose is said to be to challenge players to think of 8 letter words (<strong> College Board score: 1 </strong>)| \n",
    "| 2: Data Abstraction | 1 | The list guesses is used, and the second code uses the list to determine the length of the word (<strong>College Board score: 0 </strong>)| \n",
    "| 3: Managing Complexity | 0 | The response doesnt include how the list manages complexity (<strong>College Board score: 0 </strong>)| \n",
    "| 4: Procedural Abstraction | 0 | The procedure isitcorrect is created, and used later in the second code sequence. However, the procedure in the response is not named correctly (<strong> College Board score: 1 </strong>) | \n",
    "| 5: Algorithm Implementation | 1 | The algorithm is named and the function is described fully (<strong>College Board score: 1 </strong>) |\n",
    "| 6: Testing | 0 | The student does not mention what the actual calls are that are being used to do the tests(<strong>College Board score: 0 </strong>) | \n",
    "\n",
    "\n",
    "### Overall Score: 2/6 \n",
    "\n",
    "### Differences Between My Score and College Board: \n",
    "\n",
    "- Row 2: Collegeboard did not give the student this point, because the actual data in the list is not being used, only the length\n",
    "- Row 4: Naming the procedure is not in the requirements, therefore the student still earns the point\n"
   ]
  },
  {
   "attachments": {},
   "cell_type": "markdown",
   "metadata": {},
   "source": [
    "### Takeaways and Things to Focus on in my Own Response:\n",
    "\n",
    "- Make sure the response fully describes everything the rubric requires. Don't shorten the description, since that leads to some criteria not being included \n",
    "- Function vs Purpose\n",
    "- In your list, the data stored within the list must be used"
   ]
  }
 ],
 "metadata": {
  "kernelspec": {
   "display_name": "Python 3",
   "language": "python",
   "name": "python3"
  },
  "language_info": {
   "name": "python",
   "version": "3.10.6 (v3.10.6:9c7b4bd164, Aug  1 2022, 17:13:48) [Clang 13.0.0 (clang-1300.0.29.30)]"
  },
  "orig_nbformat": 4,
  "vscode": {
   "interpreter": {
    "hash": "aee8b7b246df8f9039afb4144a1f6fd8d2ca17a180786b69acc140d282b71a49"
   }
  }
 },
 "nbformat": 4,
 "nbformat_minor": 2
}
