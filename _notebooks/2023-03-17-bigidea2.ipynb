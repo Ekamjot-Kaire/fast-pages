{
 "cells": [
  {
   "attachments": {},
   "cell_type": "markdown",
   "metadata": {},
   "source": [
    "#  Big Idea 2 \n",
    "- toc: false"
   ]
  },
  {
   "attachments": {},
   "cell_type": "markdown",
   "metadata": {},
   "source": [
    "\n",
    "\n",
    "\n",
    "# DIFFICULT QUESTIONS:\n",
    "\n",
    "### Question 1: \n",
    "\n",
    "![](https://user-images.githubusercontent.com/111466888/225998828-f25fceba-4866-429c-a990-b541e2447ef6.png)\n",
    "\n",
    "Binary bits work in powers of 2:\n",
    "\n",
    "![](https://user-images.githubusercontent.com/111466888/225999046-e23ad48a-ddfe-4e11-8970-22c003a0c67c.png)\n",
    "\n",
    "The numbers 75-100 are more than 2^6 (which is 64). Therefore 7 bits are needed to store this data:\n",
    "\n",
    "**Answer** C: 7 \n",
    "\n",
    "\n",
    "### Question 24: \n",
    "\n",
    "![](https://user-images.githubusercontent.com/111466888/225999408-3dff35ea-5c0c-4c8a-8fb4-bee64e9a9bab.png)\n",
    "\n",
    "1001 0011 + 0000 0001 \n",
    "--> 1001 0012 --> 1001 0020 --> 1001 0100 \n",
    "\n",
    "(Every time a 1 is added to a bit that is already 1, the bit switches to 0 and 1 is added to the bit before it)\n",
    "\n",
    "**Answer:** A: 1001 0100\n",
    "\n",
    "### Question 25:\n",
    "\n",
    "![](https://user-images.githubusercontent.com/111466888/226000016-47e6ce45-b005-463a-91c1-f6cd3c7fb48f.png)\n",
    "\n",
    "11101 --> 11101000 \n",
    "\n",
    "000 is 3 bits, and 2^3 is 8.. therefore multiplied by 8 \n",
    "\n",
    "**Answer:** C: the transformed number is 8 times the value of the original number "
   ]
  }
 ],
 "metadata": {
  "language_info": {
   "name": "python"
  },
  "orig_nbformat": 4
 },
 "nbformat": 4,
 "nbformat_minor": 2
}
