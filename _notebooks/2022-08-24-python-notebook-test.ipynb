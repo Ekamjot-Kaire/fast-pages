{
 "cells": [
  {
   "cell_type": "markdown",
   "metadata": {},
   "source": [
    "# Python Usage"
   ]
  },
  {
   "cell_type": "code",
   "execution_count": 19,
   "metadata": {},
   "outputs": [
    {
     "name": "stdout",
     "output_type": "stream",
     "text": [
      "hello world\n",
      "correct!\n",
      "correct!\n",
      "2\n"
     ]
    }
   ],
   "source": [
    "print(\"hello world\")\n",
    "\n",
    "score = 0\n",
    "\n",
    "def testing(input, answer, score):\n",
    "    if input == answer: \n",
    "        score = score + 1 \n",
    "        print(\"correct!\")\n",
    "        return score\n",
    "    else:\n",
    "        print(\"wrong answer\")\n",
    "        \n",
    "score1 = testing(input(), \"hello\", score)\n",
    "score2 = testing(input(), \"bye\", score)\n",
    "\n",
    "score = score1 + score2\n",
    "\n",
    "print(score)"
   ]
  }
 ],
 "metadata": {
  "kernelspec": {
   "display_name": "Python 3.9.12 ('myenv': venv)",
   "language": "python",
   "name": "python3"
  },
  "language_info": {
   "codemirror_mode": {
    "name": "ipython",
    "version": 3
   },
   "file_extension": ".py",
   "mimetype": "text/x-python",
   "name": "python",
   "nbconvert_exporter": "python",
   "pygments_lexer": "ipython3",
   "version": "3.9.12"
  },
  "orig_nbformat": 4,
  "vscode": {
   "interpreter": {
    "hash": "d683745090ab2625d257ed12473cf2b24e327d7d6cf1c3940ba01281b86926eb"
   }
  }
 },
 "nbformat": 4,
 "nbformat_minor": 2
}
