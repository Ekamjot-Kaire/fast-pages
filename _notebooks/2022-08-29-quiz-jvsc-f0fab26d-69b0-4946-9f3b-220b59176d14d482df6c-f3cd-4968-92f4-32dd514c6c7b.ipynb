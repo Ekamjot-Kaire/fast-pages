{
 "cells": [
  {
   "cell_type": "code",
   "execution_count": null,
   "metadata": {},
   "outputs": [],
   "source": []
  }
 ],
 "metadata": {
  "kernelspec": {
   "display_name": "Python 3.9.12 ('myenv': venv)",
   "language": "python",
   "name": "python3"
  },
  "language_info": {
   "name": "python",
   "version": "3.9.12"
  },
  "vscode": {
   "interpreter": {
    "hash": "d683745090ab2625d257ed12473cf2b24e327d7d6cf1c3940ba01281b86926eb"
   }
  }
 },
 "nbformat": 4,
 "nbformat_minor": 5
}
