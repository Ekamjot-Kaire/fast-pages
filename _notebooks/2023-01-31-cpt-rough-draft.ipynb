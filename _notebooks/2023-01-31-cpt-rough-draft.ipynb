{
 "cells": [
  {
   "attachments": {},
   "cell_type": "markdown",
   "metadata": {},
   "source": [
    "# CPT Rough Draft\n",
    "\n",
    "- title: CPT Rough Draft\n",
    "- toc: false\n",
    "- badges: false\n",
    "- categories: []"
   ]
  },
  {
   "attachments": {},
   "cell_type": "markdown",
   "metadata": {},
   "source": [
    "### My part of the project:\n",
    "\n",
    "My part of this project (for the CPT, we are working on all parts together) is going to be an about page for each user. This page will include information like the player's top score, the amount of games they have played, etc. \n",
    "\n",
    "### Row 1: Program Purpose and Function \n",
    "\n",
    "The FUNCTION of this program is displaying the information unique to each individual user. The PURPOSE is to help users get their information in a more streamlined way, which contributes to our overall project by helping it be more user friendly \n",
    "\n",
    "### Row 2: Data Abstraction:\n",
    "\n",
    "The specific information for each user from each category might be stored in a list, and then each element from the list is displayed. Creating a list would help manage complexity, because it would assign all information of a user to a variable that could represent that user. Without the list, each piece of information would have to be worked with seperately, and the information would not be connected in an object\n",
    "\n",
    "### Row 3: Managing Complexity \n",
    "\n",
    "Talked about in Row 2\n",
    "\n",
    "### Row 4: Procedural Abstraction\n",
    "\n",
    "Procedures will have to be used to pull information from the database and organize it into lists\n",
    "\n",
    "### Row 5: Algorithm Implementation\n",
    "\n",
    "Still figuring this one out\n",
    "\n",
    "### Row 6: Testing\n",
    "\n",
    "The program can be tested by signing into two different accounts and seeing what the page shows. The different parameters that could be tested are an account that's brand new, and an account with data collected. These both would show that the page accurately displays information that is specific to each user. \n",
    "\n",
    "\n",
    "### Video:\n",
    "\n",
    "The video would show me signing into the website as a new user, and going to the about page to show that no data is shown, since no games have been played. I would then play a quick game, and then go back to the about page to show that new data has been added. The point of the video would be to show that the page updates automatically, and therefore meets its purpose. "
   ]
  }
 ],
 "metadata": {
  "kernelspec": {
   "display_name": "Python 3",
   "language": "python",
   "name": "python3"
  },
  "language_info": {
   "name": "python",
   "version": "3.10.6 (v3.10.6:9c7b4bd164, Aug  1 2022, 17:13:48) [Clang 13.0.0 (clang-1300.0.29.30)]"
  },
  "orig_nbformat": 4,
  "vscode": {
   "interpreter": {
    "hash": "aee8b7b246df8f9039afb4144a1f6fd8d2ca17a180786b69acc140d282b71a49"
   }
  }
 },
 "nbformat": 4,
 "nbformat_minor": 2
}
