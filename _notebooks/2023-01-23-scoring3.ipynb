{
 "cells": [
  {
   "attachments": {},
   "cell_type": "markdown",
   "metadata": {},
   "source": [
    "# College Board Scoring Assignment 3 \n",
    "\n",
    "- title: College Board Scoring Assignment 3\n",
    "- toc: false\n",
    "- badges: false\n",
    "- categories: []"
   ]
  },
  {
   "attachments": {},
   "cell_type": "markdown",
   "metadata": {},
   "source": [
    "## Student 1: \n",
    "\n",
    "| Row: Category | My Score | Notes | \n",
    "| - | - | - | \n",
    "| 1: Program Purpose and Function | 1 | The video shows the functionality, which is a game of rock paper scissors. The written response says that the purpose is for entertainment or to make a decision(<strong>College Board score: 1 </strong>)| \n",
    "| 2: Data Abstraction | 0 | The second set of code does not actually use the list shown in the first set of code (<strong>College Board score: 0 </strong>)|\n",
    "| 3: Managing Complexity | 0 | The list does not manage complexity, since its never even used in the program(<strong>College Board score: 0 </strong>)| \n",
    "| 4: Procedural Abstraction | 1 | The response includes both the procedure, and what the procedure does (<strong>College Board score: 0 </strong>) | \n",
    "| 5: Algorithm Implementation | 1 | All requirements are met =, since the procedure rpsGame includes sequencing, iteration, and selection (<strong>College Board score: 1 </strong>) |\n",
    "| 6: Testing | 1 | The student describes what inputs are being added, why those specific inputs were chosen and what they are meant to test. The outputs are also given(<strong>College Board score: 1 </strong>) | \n",
    "\n",
    "\n",
    "### My Overall Scoring: 4/6 \n",
    "\n",
    "### Differences Between My Score and College Board: \n",
    "\n",
    "- Row 4: I gave the student a 1, while College Board gave them a 0. This is the student did not mention how the procedure contributes to the overall project. Having the program run smoother is not an actual functionality."
   ]
  },
  {
   "attachments": {},
   "cell_type": "markdown",
   "metadata": {},
   "source": [
    "## Student 2: \n",
    "\n",
    "| Row: Category | My Score | Notes | \n",
    "| - | - | - | \n",
    "| 1: Program Purpose and Function | 1 | The video shows the inputs and outputs of a game of hangman (<strong>College Board score: 1 </strong>)| \n",
    "| 2: Data Abstraction | 1 | Two sets of code are given, one where the list letofGuessWord is created, and the other where the program uses the data in the word(<strong>College Board score: 1 </strong>)|\n",
    "| 3: Managing Complexity | 1 | The response includes how the list manages complexity, and what would be different if the list was not used (<strong>College Board score: 1 </strong>)| \n",
    "| 4: Procedural Abstraction | 1 | The procedure guessWords is included, and its purpose is explained along with an explanation of how it works.(<strong>College Board score: 1 </strong>) | \n",
    "| 5: Algorithm Implementation | 1 | guessWords includes sequencing, iteration, and selection (<strong>College Board score: 1 </strong>) |\n",
    "| 6: Testing | 1 | Two different procedure calls are specified, and the output is shown along with an explanation of how that demonstrates that the program is working correctly (<strong>College Board score: 1 </strong>) | \n",
    "\n",
    "\n",
    "### My Overall Scoring: 6/6 \n",
    "\n",
    "### Differences Between My Score and College Board: \n",
    "\n",
    "- none :)"
   ]
  },
  {
   "attachments": {},
   "cell_type": "markdown",
   "metadata": {},
   "source": [
    "## Student 3: \n",
    "\n",
    "| Row: Category | My Score | Notes | \n",
    "| - | - | - | \n",
    "| 1: Program Purpose and Function | 1 | The function is shown in the video and the purpose is specified (<strong>College Board score: 1 </strong>)| \n",
    "| 2: Data Abstraction | 0 | Two sets of code are given, but while one of them shows a list being created, none of the code segments show the list being used in the actual program(<strong>College Board score: 0 </strong>)| \n",
    "| 3: Managing Complexity | 1 | The response explains how the list can be used to manage complexity(<strong>College Board score: 0 </strong>)| \n",
    "| 4: Procedural Abstraction | 0 | The code defining the procedure is shown, but there is no code calling the procedure  (<strong> College Board score: 0 </strong>) | \n",
    "| 5: Algorithm Implementation | 0 | There is no iteration in the procedure (<strong>College Board score: 0 </strong>) |\n",
    "| 6: Testing | 0 | The two different sitatuations being tested by the calls given are not explained(<strong>College Board score: 0 </strong>) | \n",
    "\n",
    "\n",
    "### Overall Score: 2/6 \n",
    "\n",
    "### Differences Between My Score and College Board: \n",
    "\n",
    "- Row 3: The explanation for managing complexity is vague and isnt specific to this project\n",
    "\n"
   ]
  },
  {
   "attachments": {},
   "cell_type": "markdown",
   "metadata": {},
   "source": [
    "## Student 4: \n",
    "\n",
    "| Row: Category | My Score | Notes | \n",
    "| - | - | - | \n",
    "| 1: Program Purpose and Function | 0 | The video shows the function which is calculating info about a triangle. However, the written response talks about function, not purpose (<strong>College Board score: 0 </strong>)| \n",
    "| 2: Data Abstraction | 1 | The student showed code that defines a list, and code that uses the list in a useful way. The name of the list and the purpose is also included (<strong>College Board score: 1 </strong>)| \n",
    "| 3: Managing Complexity | 1 | This point was earned because the list organizes triangles into categories, which simplifies the process. The response also describes what would happen if the list was not used, and why it would be less practical (<strong>College Board score: 0 </strong>)| \n",
    "| 4: Procedural Abstraction | 1 | The procedure is defined and then used later in the student's code. The student also describes what the procedure is doing (<strong>College Board score: 1 </strong>) | \n",
    "| 5: Algorithm Implementation | 1 | Response 3c describes how the algorithm includes sequencing, iteration, and selection (<strong>College Board score: 1 </strong>) |\n",
    "| 6: Testing | 1 | The student describes what inputs are being added, why those specific inputs were chosen and what they are meant to test, and the outputs (<strong>College Board score: 1 </strong>) | \n",
    "\n",
    "\n",
    "### Overall Score: 5/6 \n",
    "\n",
    "### Differences Between My Score and College Board: \n",
    "\n",
    "- Row 3: I gave the student a 1, while College Board gave them a 0. This is because the list was not necessary for the program, and the explanation given for what would be done without the list is incomplete \n"
   ]
  },
  {
   "attachments": {},
   "cell_type": "markdown",
   "metadata": {},
   "source": [
    "### Takeaways and Things to Focus on in my Own Response:\n",
    "\n",
    "- Pay special attention to fully describing how a list manages complexity, and be sure to explain how the code would not work without the list"
   ]
  }
 ],
 "metadata": {
  "kernelspec": {
   "display_name": "Python 3",
   "language": "python",
   "name": "python3"
  },
  "language_info": {
   "name": "python",
   "version": "3.10.6 (v3.10.6:9c7b4bd164, Aug  1 2022, 17:13:48) [Clang 13.0.0 (clang-1300.0.29.30)]"
  },
  "orig_nbformat": 4,
  "vscode": {
   "interpreter": {
    "hash": "aee8b7b246df8f9039afb4144a1f6fd8d2ca17a180786b69acc140d282b71a49"
   }
  }
 },
 "nbformat": 4,
 "nbformat_minor": 2
}
