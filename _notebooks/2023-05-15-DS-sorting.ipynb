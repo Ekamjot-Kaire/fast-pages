{
 "cells": [
  {
   "attachments": {},
   "cell_type": "markdown",
   "metadata": {},
   "source": [
    "# Sorting Algorithms\n",
    "> Working with Data Structures and manipulating data.\n",
    "\n",
    "- toc: true\n",
    "- categories: []\n",
    "- type: pbl\n",
    "- week: 34"
   ]
  },
  {
   "attachments": {},
   "cell_type": "markdown",
   "metadata": {},
   "source": [
    "[wget link](https://raw.githubusercontent.com/nighthawkcoders/APCSP/master/_notebooks/2023-05-15-DS-sorting.ipynb)"
   ]
  },
  {
   "cell_type": "code",
   "execution_count": 2,
   "metadata": {},
   "outputs": [
    {
     "name": "stdout",
     "output_type": "stream",
     "text": [
      "Random List\n",
      "[97, 29, 54, 3, 18, 2, 24, 58, 32, 78]\n"
     ]
    }
   ],
   "source": [
    "import random\n",
    "\n",
    "numbers = []\n",
    "for i in range(10):\n",
    "    numbers.append(random.randint(0,100))\n",
    "print(\"Random List\")\n",
    "print(numbers)"
   ]
  },
  {
   "attachments": {},
   "cell_type": "markdown",
   "metadata": {},
   "source": [
    "# Warm Up\n",
    "\n",
    "> Discuss with a partner... \n",
    "What are some strategies you would use to sort this list? (Don't worry about writing code for now)\n",
    "-  I might go through the list and find the smallest number and put it at the first index, then go through the list again an put the next smallest number at the second index, and so on. \n",
    "- randomize the order until they're in perfect order "
   ]
  },
  {
   "attachments": {},
   "cell_type": "markdown",
   "metadata": {},
   "source": [
    "# Explore\n",
    "\n",
    "Get into groups of 3\n",
    "\n",
    "We will be focusing on 4 algorithms today.\n",
    "\n",
    "We will look at the first one together, Bubble Sort\n",
    "\n",
    "![](images/bubble-sort.png)\n",
    "\n",
    "What is happening with this sort?\n",
    "\n",
    "In your groups you will each choose to be an expert on a sorting algorithm. Merge, Selection, and Insertion.\n",
    "Take about 5 minutes to read about your algorithm and be ready to explain it to your other group members. \n",
    "\n",
    "[Merge](https://www.geeksforgeeks.org/merge-sort/#)\n",
    "\n",
    "[Selection](https://www.geeksforgeeks.org/selection-sort/)\n",
    "\n",
    "[Insertion](https://www.geeksforgeeks.org/insertion-sort/)"
   ]
  },
  {
   "attachments": {},
   "cell_type": "markdown",
   "metadata": {},
   "source": [
    "## Practice\n",
    "\n",
    "[75, 17, 46, 80, 67, 45, 69, 79, 40, 0]\n",
    "\n",
    "How would you sort this list with... \n",
    "- Bubble Sort\n",
    "- Selection Sort\n",
    "> Bubble Sort: You would go through each item and switch it with the item on the right, if the item on the right is larger. You keep going through the list again and again, doing the same thing until the list is sorted\n",
    "\n",
    "> Selection Sort: divide the array into two sections, sorted and unsorted. Do the same thing as bubble sort, except this time, one the larger numbers have reached the end of the array, consider them sorted and don't go through those numbers when comparing.\n",
    "\n",
    "[88, 39, 53, 39, 58, 43, 74, 81, 71, 51]\n",
    "\n",
    "How would you sort this list with... \n",
    "- Merge Sort\n",
    "- Insertion Sort\n",
    "> Merge Sort: Divide the list into subsections, then sort each subsection. Merge the sorted subsections together, and then merge them again. Repeat this until the list has been fully combined \n",
    "\n",
    "> Insertion Sort: Start from the left, and compare with each element in the ist. Place the chosen number to the right of the first number that is smaller than the chosen number. \n"
   ]
  },
  {
   "attachments": {},
   "cell_type": "markdown",
   "metadata": {},
   "source": [
    "# Sorting Words\n",
    "> Sorting strings works in the same way as integers. Using your expertise algorithm, sort the following list of random words."
   ]
  },
  {
   "cell_type": "code",
   "execution_count": 6,
   "metadata": {},
   "outputs": [
    {
     "name": "stdout",
     "output_type": "stream",
     "text": [
      "Random List\n",
      "['construct', 'Jeames', 'photodecomposition', 'hydrometeorology', 'dermopteran', 'principalness', 'osteoderm', 'tachytype', 'porulose', 'zaptiah']\n"
     ]
    },
    {
     "name": "stderr",
     "output_type": "stream",
     "text": [
      "[nltk_data] Downloading package words to\n",
      "[nltk_data]     /Users/ekamjotkaire/nltk_data...\n",
      "[nltk_data]   Package words is already up-to-date!\n"
     ]
    }
   ],
   "source": [
    "import nltk\n",
    "import random\n",
    "\n",
    "nltk.download('words')  # Download the word list (only required once)\n",
    "\n",
    "from nltk.corpus import words\n",
    "\n",
    "english_words = words.words()\n",
    "#print(len(english_words))  # Prints the number of words in the list\n",
    "\n",
    "# You can now use the 'english_words' list in your code\n",
    "\n",
    "words = []\n",
    "for i in range(10):\n",
    "    words.append(english_words[random.randint(0,len(english_words))])\n",
    "print(\"Random List\")\n",
    "print(words)"
   ]
  },
  {
   "attachments": {},
   "cell_type": "markdown",
   "metadata": {},
   "source": [
    "## Discuss \n",
    "Answer the following with your group.\n",
    "\n",
    "- When should you use each algorithm? What makes an algorithm the right choice?\n",
    "- Given the following lists...\n",
    "    - [0, 2, 6, 4, 8, 10] : **Bubble sort would work well here, since only two indexes that need to be swapped, and they are right next to each other.**\n",
    "    - [Elephant, Banana, Cat, Dog, Apple] : **Selection sort, since it would only take one pass** \n",
    "    - [29, 13, 83, 47, 32, 78, 100, 60, 65, 15, 24, 9, 40, 68, 53, 8, 90, 58, 39, 32, 34, 91, 74, 94, 49, 87, 34, 87, 23, 17, 27, 2, 38, 58, 84, 15, 9, 46, 74, 40, 44, 8, 55, 28, 81, 92, 81, 88, 53, 38, 19, 21, 9, 54, 21, 67, 3, 41, 3, 74, 13, 71, 70, 45, 5, 36, 80, 64, 97, 86, 73, 74, 94, 79, 49, 32, 20, 68, 64, 69, 1, 77, 31, 56, 100, 80, 48, 75, 85, 93, 67, 57, 26, 56, 43, 53, 59, 28, 67, 50] : **Merge sort, since the list is very large, and breaking it into smaller pieces requires less iterations through the list**\n",
    "    \n",
    "Select the algorithm you believe is best for each, explain. **done above**"
   ]
  },
  {
   "attachments": {},
   "cell_type": "markdown",
   "metadata": {},
   "source": [
    "## HACKS\n",
    "> Provided below is a Bubble Sort Algorithm sorting a list of dictionaries based off of selected key.\n",
    "\n",
    "- Now it's time to do some coding...\n",
    "\n",
    "- Run code and then research and answer these questions...\n",
    "    - Is a list and/or dictionary in python considered a primitive or collection type?  Why?\n",
    "\n",
    "    The list and dictionary are collection types, since the data stores within them can be more complex and dynamic than primitive types. \n",
    "    \n",
    "    - Is the list passed into bubble sort \"pass-by-value\" or \n",
    "    \"pass-by-reference? Describe why in relation to output.\n",
    "\n",
    "    The list is pass by reference, since the list is not being copied into a variable within the function \n",
    "    \n",
    "- Implement new cell(s) and/or organize cells to do the following.\n",
    "    - Create your own list\n",
    "    - Use your expertise sorting algorithm (selection, insertion, merge). Note, I got my bubble sort from Geek for Geeks and made modifications. Each student in a group should have a unique algorithm.\n",
    "    - Test your list with my bubble sort\n",
    "    - Test my list with your new sort, do NOT make a copy my list when doing this\n",
    "    - Research analysis on sorting: comparisons, swaps, time.  Build this into your hacks.\n",
    "    - Find a better way to print the data, key first, then other elements in viewable form.\n",
    "\n",
    "Use the code below to help guide your adventure"
   ]
  },
  {
   "cell_type": "code",
   "execution_count": 1,
   "metadata": {},
   "outputs": [
    {
     "name": "stdout",
     "output_type": "stream",
     "text": [
      "Original\n",
      "[{'name': 'Risa', 'age': 18, 'city': 'New York'}, {'name': 'John', 'age': 63, 'city': 'Eugene'}, {'name': 'Shekar', 'age': 18, 'city': 'San Francisco'}, {'name': 'Ryan', 'age': 21, 'city': 'Los Angeles'}]\n",
      "name\n",
      "[{'name': 'John', 'age': 63, 'city': 'Eugene'}, {'name': 'Risa', 'age': 18, 'city': 'New York'}, {'name': 'Ryan', 'age': 21, 'city': 'Los Angeles'}, {'name': 'Shekar', 'age': 18, 'city': 'San Francisco'}]\n",
      "age\n",
      "[{'name': 'Risa', 'age': 18, 'city': 'New York'}, {'name': 'Shekar', 'age': 18, 'city': 'San Francisco'}, {'name': 'Ryan', 'age': 21, 'city': 'Los Angeles'}, {'name': 'John', 'age': 63, 'city': 'Eugene'}]\n",
      "city\n",
      "[{'name': 'John', 'age': 63, 'city': 'Eugene'}, {'name': 'Ryan', 'age': 21, 'city': 'Los Angeles'}, {'name': 'Risa', 'age': 18, 'city': 'New York'}, {'name': 'Shekar', 'age': 18, 'city': 'San Francisco'}]\n"
     ]
    }
   ],
   "source": [
    "\"\"\"\n",
    "* Creator: Nighthawk Coding Society\n",
    "Bubble Sort of a List with optimizations\n",
    "\"\"\"\n",
    "\n",
    "# bubble sorts a list of dictionaries, base off of provided key\n",
    "def bubbleSort(list, key):\n",
    "    n = len(list) - 1  # list are indexed 0 to n-1, len is n\n",
    "    \n",
    "    # Traverse through list with i index\n",
    "    for i in range(n):\n",
    "        swapped = False  # optimize code, so it exits if now swaps on inner loop\n",
    "\n",
    "        # Inner traversal using j index\n",
    "        for j in range(n-i):  # n-i as positions on right are in order in bubble\n",
    " \n",
    "            # Swap if the element KeyN is greater KeyN1\n",
    "            keyN = list[j].get(key)\n",
    "            keyN1 = list[j+1].get(key)\n",
    "            if keyN > keyN1:\n",
    "                swapped = True\n",
    "                list[j], list[j + 1] = list[j + 1], list[j]  # single line swap\n",
    "         \n",
    "        if not swapped:  # if no swaps on inner pass, list is sorted\n",
    "            return  # exit function\n",
    "    \n",
    "\n",
    "if __name__ == \"__main__\":\n",
    "    # list/dictionary sample\n",
    "    list_of_people = [\n",
    "    {\"name\": \"Risa\", \"age\": 18, \"city\": \"New York\"},\n",
    "    {\"name\": \"John\", \"age\": 63, \"city\": \"Eugene\"},\n",
    "    {\"name\": \"Shekar\", \"age\": 18, \"city\": \"San Francisco\"},\n",
    "    {\"name\": \"Ryan\", \"age\": 21, \"city\": \"Los Angeles\"}\n",
    "    ]\n",
    "    \n",
    "    # assuming uniform keys, pick 1st row as source of keys\n",
    "    key_row = list_of_people[0]\n",
    "\n",
    "    # print list as defined\n",
    "    print(\"Original\")\n",
    "    print(list_of_people)\n",
    "    \n",
    "    for key in key_row:  # finds each key in the row\n",
    "        print(key)\n",
    "        bubbleSort(list_of_people, key)  # sort list of people\n",
    "        print(list_of_people)"
   ]
  },
  {
   "cell_type": "code",
   "execution_count": 4,
   "metadata": {},
   "outputs": [
    {
     "name": "stdout",
     "output_type": "stream",
     "text": [
      "Original:\n",
      "['oak', 'pine', 'redwood', 'sequoia', 'birch', 'maple', 'sycamore', 'spruce', 'palm']\n",
      "Sorted:\n",
      "['birch', 'maple', 'oak', 'palm', 'pine', 'redwood', 'sequoia', 'spruce', 'sycamore']\n"
     ]
    }
   ],
   "source": [
    "## New list: \n",
    "\n",
    "tree_species = [\"oak\", \"pine\", \"redwood\", \"sequoia\", \"birch\", \"maple\", \"sycamore\"]\n",
    "\n",
    "## Testing with given bubble sort (edited to work with this list): \n",
    "\n",
    "# bubble sorts a list of elements\n",
    "def bubbleSort(lst):\n",
    "    n = len(lst) - 1  # lists are indexed 0 to n-1, len is n\n",
    "    \n",
    "    # Traverse through the list with i index\n",
    "    for i in range(n):\n",
    "        swapped = False  # optimize code, so it exits if no swaps occur in the inner loop\n",
    "\n",
    "        # Inner traversal using j index\n",
    "        for j in range(n-i):\n",
    "            # Swap if the element at index j is greater than the element at index j+1\n",
    "            if lst[j] > lst[j+1]:\n",
    "                swapped = True\n",
    "                lst[j], lst[j + 1] = lst[j + 1], lst[j]  # single line swap\n",
    "         \n",
    "        if not swapped:  # if no swaps occur in the inner pass, the list is sorted\n",
    "            return  # exit the function\n",
    "\n",
    "# Main code\n",
    "if __name__ == \"__main__\":\n",
    "    tree_species = [\"oak\", \"pine\", \"redwood\", \"sequoia\", \"birch\", \"maple\", \"sycamore\", \"spruce\", \"palm\"]\n",
    "\n",
    "    # Print the original list\n",
    "    print(\"Original:\")\n",
    "    print(tree_species)\n",
    "    \n",
    "    # Sort the list using bubble sort\n",
    "    bubbleSort(tree_species)\n",
    "    \n",
    "    # Print the sorted list\n",
    "    print(\"Sorted:\")\n",
    "    print(tree_species)\n"
   ]
  },
  {
   "cell_type": "code",
   "execution_count": 6,
   "metadata": {},
   "outputs": [
    {
     "name": "stdout",
     "output_type": "stream",
     "text": [
      "Given array is\n",
      "oak pine redwood sequoia birch maple sycamore spruce palm \n",
      "Sorted array is:\n",
      "birch oak palm pine redwood sequoia maple sycamore spruce \n"
     ]
    }
   ],
   "source": [
    "## Merge sort code taken from geek for geeks, and edited to create three sub-arrays instead of two, and then merge each one\n",
    "## also edited to take words instead of integers\n",
    "\n",
    "def mergeSort(arr):\n",
    "    if len(arr) > 1:\n",
    "        mid1 = len(arr) // 3  # First sub-array division\n",
    "        mid2 = mid1 * 2       # Second sub-array division\n",
    "\n",
    "        L1 = arr[:mid1]      # First sub-array\n",
    "        L2 = arr[mid1:mid2]  # Second sub-array\n",
    "        L3 = arr[mid2:]      # Third sub-array\n",
    "\n",
    "        mergeSort(L1)  # Sorting the first sub-array\n",
    "        mergeSort(L2)  # Sorting the second sub-array\n",
    "        mergeSort(L3)  # Sorting the third sub-array\n",
    "\n",
    "        # Merge the sorted subarrays\n",
    "        i = j = k = 0\n",
    "\n",
    "        while i < len(L1) and j < len(L2) and k < len(L3):\n",
    "            if L1[i] <= L2[j] and L1[i] <= L3[k]:\n",
    "                arr[i + j + k] = L1[i]\n",
    "                i += 1\n",
    "            elif L2[j] <= L1[i] and L2[j] <= L3[k]:\n",
    "                arr[i + j + k] = L2[j]\n",
    "                j += 1\n",
    "            else:\n",
    "                arr[i + j + k] = L3[k]\n",
    "                k += 1\n",
    "\n",
    "        while i < len(L1):\n",
    "            arr[i + j + k] = L1[i]\n",
    "            i += 1\n",
    "\n",
    "        while j < len(L2):\n",
    "            arr[i + j + k] = L2[j]\n",
    "            j += 1\n",
    "\n",
    "        while k < len(L3):\n",
    "            arr[i + j + k] = L3[k]\n",
    "            k += 1\n",
    "\n",
    "\n",
    "def printList(arr):\n",
    "    for i in range(len(arr)):\n",
    "        print(arr[i], end=\" \")\n",
    "    print()\n",
    "\n",
    "\n",
    "if __name__ == '__main__':\n",
    "    tree_species = [\"oak\", \"pine\", \"redwood\", \"sequoia\", \"birch\", \"maple\", \"sycamore\", \"spruce\", \"palm\"]\n",
    "    print(\"Given array is\", end=\"\\n\")\n",
    "    printList(tree_species)\n",
    "    mergeSort(tree_species)\n",
    "    print(\"Sorted array is:\", end=\"\\n\")\n",
    "    printList(tree_species)\n",
    "\n",
    "mergeSort(tree_species)\n"
   ]
  }
 ],
 "metadata": {
  "kernelspec": {
   "display_name": "base",
   "language": "python",
   "name": "python3"
  },
  "language_info": {
   "codemirror_mode": {
    "name": "ipython",
    "version": 3
   },
   "file_extension": ".py",
   "mimetype": "text/x-python",
   "name": "python",
   "nbconvert_exporter": "python",
   "pygments_lexer": "ipython3",
   "version": "3.9.12"
  },
  "orig_nbformat": 4
 },
 "nbformat": 4,
 "nbformat_minor": 2
}
