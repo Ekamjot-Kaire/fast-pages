{
 "cells": [
  {
   "attachments": {},
   "cell_type": "markdown",
   "metadata": {},
   "source": [
    "# Units 5.1 and 5.2 Notes\n",
    "\n",
    "- title: Units 5.1 an 5.2 Notes\n",
    "- toc: false\n",
    "- badges: false\n",
    "- categories: []"
   ]
  },
  {
   "attachments": {},
   "cell_type": "markdown",
   "metadata": {},
   "source": [
    "### Key Questions: \n",
    "\n",
    ">   Think of three beneficial effects of your projects based on 5.1 Unit\n",
    "<br>\n",
    "\n",
    ">   Think of a potential harmful effect of your project.\n",
    "<br>\n",
    "\n",
    ">   Answer with an opinion and learnings so far this year:  What are pros/cons on internet blockers at router and lack of admin password on lab machines at school?\n",
    "<br>\n",
    "\n",
    ">   What concerns do you have personally about the digital divide?  For yourself or for others."
   ]
  },
  {
   "attachments": {},
   "cell_type": "markdown",
   "metadata": {},
   "source": [
    "## Unit 5.1 -- Beneficial and Harmful Effects\n",
    "\n",
    "Open AI ChatGPT: \n",
    "\n",
    "--> Disrupter: something that changes up the current system or model of something\n",
    "\n",
    "- ChatGPT is changing the way people learn\n",
    "- changing business model (no advertisement) \n",
    "\n",
    "BENEFITS: \n",
    "- easier to learn different topics\n",
    "- more streamlined version of google \n",
    "\n",
    "HARMFUL EFFECTS: \n",
    "- bias --> example of ai only recognizing light skinned people\n",
    "- ai could be coded with only one perspective \n",
    "\n",
    "BLOG POST REFLECTION: \n",
    "\n",
    "1) Benefits and harms of computing:\n",
    "\n",
    "Benefits: \n",
    "- allows everyone to create any program they want\n",
    "- high availability -- anyone can learn coding \n",
    "- very powerful tool, especially since a lot of a person's time is spent online \n",
    "- many jobs require coding \n",
    "\n",
    "Harms: \n",
    "- can be used to create code that is harmful to a community \n",
    "- computer viruses, privacy issues, etc\n",
    "- ai is a very controversial form of computing \n",
    "\n",
    "<br>\n",
    "2. Video games and the addiction to the Dopamine that comes from it is a problem that many people face. Video games are designed to have people play for hours, since the more people play the game the better it does economically. I don't think video games should be removed, but limiting video games and practicing self control are important skills."
   ]
  },
  {
   "attachments": {},
   "cell_type": "markdown",
   "metadata": {},
   "source": [
    "## Unit 5.2 -- Digital Divide \n",
    "\n",
    "--> Digital divide: a un-equality in the amount of access to technology people have \n",
    "\n",
    "- some poorer communities may not have access to internet\n",
    "- censorship and internet restrictions from government in some countries\n",
    "\n",
    "Some things that contribute to this divide is: \n",
    "- education \n",
    "- location \n",
    "- government\n",
    "- religion \n",
    "- ethnicity \n",
    "\n",
    "Viasat: \n",
    "- a company based in Carlsbad \n",
    "- created to help shorten the digital divide by providing internet to places that may not have access to high speed internet \n"
   ]
  },
  {
   "attachments": {},
   "cell_type": "markdown",
   "metadata": {},
   "source": [
    "### ANSWERS TO KEY QUESTIONS \n",
    "\n",
    "#### 1) Three beneficial effects of our project: \n",
    "- Our project is a card matching game which can improve memory \n",
    "- It provides entertainment \n",
    "- It is a relatively easy project which can be created by beginners to learn concepts like databases and creating apis \n",
    "\n",
    "#### 2) Potential harmful effect: \n",
    "- Potential addiction to the game (not that our game is fun enough for that but maybe in general)\n",
    "\n",
    "#### 3) Pros and cons of internet blockers at our school\n",
    "\n",
    "PROS: \n",
    "- blocks content that might damage a computer \n",
    "- keeps students focused in class by blocking social websites like Discord \n",
    "- blocks inappropriate content that might be offensive from being shared at school \n",
    "\n",
    "CONS: \n",
    "- the content blocker blocking tools that might be useful or even necessary for some classes \n",
    "- prevents teaching students for making good decisions for themselves\n",
    "\n",
    "#### 4) Concerns about the digital divide: \n",
    "\n",
    "- As technology advances, it may become more expensive, causing the divide to grow even further\n",
    "- A lot of our daily lives now revolve around digital tools and devices, and those who don't have access to it are at a severe disadvantage \n",
    "- Not having proper technology can prevent people who can't afford it from being able to earn enough to actually afford it \n",
    "\n"
   ]
  }
 ],
 "metadata": {
  "kernelspec": {
   "display_name": "Python 3",
   "language": "python",
   "name": "python3"
  },
  "language_info": {
   "name": "python",
   "version": "3.10.6 (v3.10.6:9c7b4bd164, Aug  1 2022, 17:13:48) [Clang 13.0.0 (clang-1300.0.29.30)]"
  },
  "orig_nbformat": 4,
  "vscode": {
   "interpreter": {
    "hash": "aee8b7b246df8f9039afb4144a1f6fd8d2ca17a180786b69acc140d282b71a49"
   }
  }
 },
 "nbformat": 4,
 "nbformat_minor": 2
}
