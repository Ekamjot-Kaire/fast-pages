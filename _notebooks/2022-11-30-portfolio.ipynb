{
 "cells": [
  {
   "cell_type": "markdown",
   "metadata": {},
   "source": [
    "# Work from Weeks 14-17:\n",
    "\n",
    "# Week 14: \n",
    "\n",
    "- Sections 3.1 and 3.2: Variables, Assignments, and Data Abstractions: https://ekamjot-kaire.github.io/fast-pages/lectures/2022/11/29/day1.html\n",
    "\n",
    "- Sections 3.3 and 3.4: Mathematical Expressions and Strings (we taught this one!): https://manigggg18.github.io/manimani/jupyter/lesson2\n"
   ]
  }
 ],
 "metadata": {
  "language_info": {
   "name": "python"
  },
  "orig_nbformat": 4
 },
 "nbformat": 4,
 "nbformat_minor": 2
}
