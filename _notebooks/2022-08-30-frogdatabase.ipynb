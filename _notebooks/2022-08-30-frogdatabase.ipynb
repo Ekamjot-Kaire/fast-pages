{
 "cells": [
  {
   "cell_type": "code",
   "execution_count": 21,
   "metadata": {},
   "outputs": [
    {
     "name": "stdout",
     "output_type": "stream",
     "text": [
      "Hello. Which dog breed would you like to know about?\n",
      "options: golden retriever, labrador, husky, border collie, german shepard\n",
      "[{'Breed:': 'Golden Retriever', 'Life span:': '10-12 years', 'Temperament:': ['Intelligent, Reliable, Kind, Trustworthy, Confident'], 'Weight': '55-75 lbs', 'Height': '20-24 in'}]\n"
     ]
    }
   ],
   "source": [
    "import getpass, sys\n",
    "\n",
    "print(\"Hello. Which dog breed would you like to know about?\")\n",
    "print(\"options: golden retriever, labrador, husky, border collie, german shepard\")\n",
    "\n",
    "#golden retriever woof\n",
    "GoldR_DB = []\n",
    "GoldR_DB.append ({\n",
    "    \"Breed:\": \"Golden Retriever\",\n",
    "    \"Life span:\": \"10-12 years\",\n",
    "    \"Temperament:\": [\"Intelligent, Reliable, Kind, Trustworthy\"],\n",
    "    \"Weight\": \"55-75 lbs\",\n",
    "    \"Height\": \"20-24 in\",\n",
    "})\n",
    "\n",
    "def users_pick(prompt):\n",
    "    msg = input()\n",
    "    return msg\n",
    "\n",
    "rsp = users_pick(\"enter breed here:\")\n",
    "if rsp == \"golden retriever\":\n",
    "    print(GoldR_DB)\n",
    "elif rsp == \"labrador\":\n",
    "    print(\"bark\")\n",
    "elif rsp == \"husky\":\n",
    "    print(\"woof\")\n",
    "elif rsp == \"border collie\":\n",
    "    print(\"growls\")\n",
    "elif rsp == \"german shepard\":\n",
    "    print(\"bork\")\n",
    " "
   ]
  },
  {
   "cell_type": "code",
   "execution_count": null,
   "metadata": {},
   "outputs": [],
   "source": []
  }
 ],
 "metadata": {
  "kernelspec": {
   "display_name": "Python 3.10.6 64-bit",
   "language": "python",
   "name": "python3"
  },
  "language_info": {
   "codemirror_mode": {
    "name": "ipython",
    "version": 3
   },
   "file_extension": ".py",
   "mimetype": "text/x-python",
   "name": "python",
   "nbconvert_exporter": "python",
   "pygments_lexer": "ipython3",
   "version": "3.10.6"
  },
  "orig_nbformat": 4,
  "vscode": {
   "interpreter": {
    "hash": "aee8b7b246df8f9039afb4144a1f6fd8d2ca17a180786b69acc140d282b71a49"
   }
  }
 },
 "nbformat": 4,
 "nbformat_minor": 2
}
