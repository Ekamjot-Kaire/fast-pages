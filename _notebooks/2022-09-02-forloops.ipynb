{
 "cells": [
  {
   "cell_type": "markdown",
   "metadata": {},
   "source": [
    "# Looping Algorithms "
   ]
  },
  {
   "cell_type": "markdown",
   "metadata": {},
   "source": [
    "defining dictionaries: "
   ]
  },
  {
   "cell_type": "code",
   "execution_count": 40,
   "metadata": {},
   "outputs": [
    {
     "name": "stdout",
     "output_type": "stream",
     "text": [
      "fruit and their price:{'bananas': 0.62, 'apples': 1.23, 'grapes': 2.24, 'strawberries': 1.37, 'oranges': 1.45}\n",
      "vegetables and their price:{'potatoes': 0.78, 'tomatoes': 1.91, 'onions': 0.97, 'carrots': 0.49, 'bell peppers': 1.46}\n"
     ]
    }
   ],
   "source": [
    "#fruits + their prices\n",
    "fruit = {\n",
    "    \"bananas\": 0.62, \n",
    "    \"apples\": 1.23, \n",
    "    \"grapes\": 2.24, \n",
    "    \"strawberries\": 1.37, \n",
    "    \"oranges\": 1.45 \n",
    "}\n",
    "\n",
    "#veg + their prices\n",
    "vegs = {\n",
    "    \"potatoes\": 0.78, \n",
    "    \"tomatoes\": 1.91, \n",
    "    \"onions\": 0.97, \n",
    "    \"carrots\": 0.49, \n",
    "    \"bell peppers\": 1.46\n",
    "}\n",
    "\n",
    "#combines fruit and veg into one dictionary\n",
    "food = dict()\n",
    "food[\"fruit\"] = fruit\n",
    "food[\"vegs\"] = vegs\n",
    "\n",
    "print(\"fruit and their price:\" + str(fruit))\n",
    "print(\"vegetables and their price:\" + str(vegs))\n"
   ]
  },
  {
   "cell_type": "markdown",
   "metadata": {},
   "source": [
    "for loop with index: "
   ]
  },
  {
   "cell_type": "code",
   "execution_count": 37,
   "metadata": {},
   "outputs": [
    {
     "name": "stdout",
     "output_type": "stream",
     "text": [
      "overall price of fruits: $ 6.91\n",
      "overall price of fruits: $ 5.61\n"
     ]
    }
   ],
   "source": [
    "#initial price \n",
    "overall_price = 0\n",
    "overall_price2 = 0\n",
    "\n",
    "#for-loop for summing all values in the 'fruit' dictionary \n",
    "for i in fruit:\n",
    "    overall_price = overall_price + fruit[i]\n",
    "    \n",
    "#for-loop for summing all values in the 'vegs' dictionary \n",
    "for i in vegs:\n",
    "    overall_price2 = overall_price2 + vegs[i]\n",
    "    \n",
    "print(\"overall price of fruits: $\", str(overall_price))\n",
    "print(\"overall price of vegetables: $\", str(overall_price2))"
   ]
  },
  {
   "cell_type": "markdown",
   "metadata": {},
   "source": [
    "for loop (without index):"
   ]
  },
  {
   "cell_type": "code",
   "execution_count": 56,
   "metadata": {},
   "outputs": [
    {
     "name": "stdout",
     "output_type": "stream",
     "text": [
      "your cart: ['bananas', 'apples', 'grapes', 'strawberries', 'oranges']\n",
      "your cart: ['bananas', 'apples', 'grapes', 'strawberries', 'oranges', 'potatoes', 'tomatoes', 'onions', 'carrots', 'bell peppers']\n"
     ]
    }
   ],
   "source": [
    "#defining an empty list\n",
    "cart = []\n",
    "\n",
    "for x in fruit:\n",
    "    cart.append(x) #adds items from fruit\n",
    "print(\"your cart: \" + str(cart))\n",
    "    \n",
    "for x in vegs:\n",
    "    cart.append(x) #adds items from vegetables \n",
    "print(\"your cart: \" + str(cart))\n"
   ]
  }
 ],
 "metadata": {
  "kernelspec": {
   "display_name": "Python 3.9.12 ('base')",
   "language": "python",
   "name": "python3"
  },
  "language_info": {
   "codemirror_mode": {
    "name": "ipython",
    "version": 3
   },
   "file_extension": ".py",
   "mimetype": "text/x-python",
   "name": "python",
   "nbconvert_exporter": "python",
   "pygments_lexer": "ipython3",
   "version": "3.9.12"
  },
  "orig_nbformat": 4,
  "vscode": {
   "interpreter": {
    "hash": "0f949f575de49a1a8cd4f0d30b0da0a6a4839cc972748a1d0962ff07d579e36d"
   }
  }
 },
 "nbformat": 4,
 "nbformat_minor": 2
}
