{
 "cells": [
  {
   "attachments": {},
   "cell_type": "markdown",
   "metadata": {},
   "source": [
    "# Sections 3.12 and 3.13\n",
    "> \n",
    "\n",
    "- title: Sections 3.12 and 3.13\n",
    "- toc: true\n",
    "- badges: false\n",
    "- categories: [lessons]"
   ]
  },
  {
   "attachments": {},
   "cell_type": "markdown",
   "metadata": {},
   "source": [
    "## Calling Procedures\n",
    "\n",
    "Slide 1:\n",
    "- A **procedure** is a named group of programming instructions that may have parameters and return values.\n",
    "- Procedures are referred to by different names, such as **method** or **function** , depending on the programing language.\n",
    "- Parameters are input values of a procedure. **Arguments** specify the values of the parameters when procedure is called.\n",
    "- A procedure call interrupts the **sequencial** execution of statements causing the program to execute the statements within the procedure before continuing. One the last statement in the procedure (or a return statement) has executed, flow or control is returned to the point immediately following where the procedure was **called**.\n",
    "\n",
    "Slide 2:\n",
    "- When calling procedures, it's important to take notice to whether it returns data, or a block of **statements** .\n",
    "- If the procedure just returns a block of statements, you call the procedure by referring to the procedure name, and **inputting** the arguments.\n",
    "- If the procedure returns some sort of data like a **boolean** or **value** , then you will assign that value to a variable\n",
    "\n",
    "Slide 3:\n",
    "\n",
    "- Assume the Temperature outside is Fahrenheit. \n",
    "- The procedure convertFahrenheit is intended to convert from Fahrenheit to Celsius.\n",
    "- Convert the following psuedo code to python\n",
    "\n"
   ]
  },
  {
   "cell_type": "code",
   "execution_count": null,
   "metadata": {},
   "outputs": [],
   "source": [
    "def convertFahrenheit():\n",
    "    # code goes here\n",
    "    return celsius\n",
    "\n",
    "convertFahrenheit(outsideTemp)"
   ]
  },
  {
   "cell_type": "markdown",
   "metadata": {},
   "source": [
    "# Conversion:"
   ]
  },
  {
   "cell_type": "code",
   "execution_count": 2,
   "metadata": {},
   "outputs": [
    {
     "name": "stdout",
     "output_type": "stream",
     "text": [
      "what is the temperature outside?\n",
      "7.222222222222222\n"
     ]
    }
   ],
   "source": [
    "def convertFarenheit(temp):\n",
    "    celsius = temp - 32\n",
    "    celsius = celsius * 5/9\n",
    "    return celsius \n",
    "    \n",
    "print(\"what is the temperature outside?\")\n",
    "outsideTemp = input()\n",
    "outsideTemp = (convertFarenheit(int(outsideTemp)))\n",
    "print(outsideTemp)"
   ]
  },
  {
   "attachments": {},
   "cell_type": "markdown",
   "metadata": {},
   "source": [
    "## Developing Procedures\n",
    "\n",
    "Slide 8: \n",
    "\n",
    "Picking a **descriptive** name is important in case you revisit the code later on (separate words with capitals)\n",
    "There are 2 different types of procedures- ones that return a value and those that simply execute a block of statements\n",
    "Steps of developing procedure: picking a useful name, thinking of parameters (what data does the procedure need to know), making a flowchart or writing procedure in pseudocode, and actually developing the procedure.\n",
    "\n",
    "Slide 9: \n",
    "\n",
    "In this example, a teacher is writing a program that will replace the grade on a previous quiz if the new grade is better than the previous.\n",
    "\n",
    "- What would be a good name for this procedure?\n",
    "- What parameters do we need for this procedure?\n",
    "- Try writing this procedure out in python based on the given pseudocode\n",
    "\n"
   ]
  },
  {
   "cell_type": "code",
   "execution_count": null,
   "metadata": {},
   "outputs": [],
   "source": [
    "# procedure goes here\n",
    "\n",
    "currentGrade <- currentPoints / 40\n",
    "currentGrade <- current Grade * 100\n",
    "if currentGrade > quizGrade\n",
    "    quizGrade <- currentGrade"
   ]
  },
  {
   "cell_type": "code",
   "execution_count": 11,
   "metadata": {},
   "outputs": [
    {
     "name": "stdout",
     "output_type": "stream",
     "text": [
      "What was the overall grade\n",
      "What was the quiz grade?\n",
      "167.5\n",
      "None\n"
     ]
    }
   ],
   "source": [
    "# name: gradeCalculation\n",
    "# the parameters that we would need: number of points, the quiz grade\n",
    "\n",
    "\n",
    "def gradeCalculation (score):\n",
    "    print(\"What was the quiz grade?\")\n",
    "    quizGrade = input()\n",
    "    quizGrade = int(quizGrade)\n",
    "    currentGrade = score / 40 \n",
    "    currentGrade = currentGrade * 100\n",
    "    if currentGrade > quizGrade:\n",
    "        quizGrade = currentGrade\n",
    "        print(quizGrade)\n",
    "    else: \n",
    "        print(currentGrade)\n",
    "        \n",
    "print(\"What was the overall grade\")\n",
    "\n",
    "finalScore = input()\n",
    "finalScore = (gradeCalculation(int(finalScore)))\n",
    "print(finalScore)"
   ]
  },
  {
   "attachments": {},
   "cell_type": "markdown",
   "metadata": {},
   "source": [
    "## Procedural Abstraction\n",
    "\n",
    "- One type of abstraction is **procedural** abstraction which provides a name for a process and allows a procedure to be used only knowing what it does and not how it does it\n",
    "- This is very helpful in managing **complexity** in a program\n",
    "- Subdivision of a program into separate subprograms is called **modulatiry**\n",
    "- A procedural abstraction may **extract** shared features to generalize functionality instead of duplicating code. This allows for program reuse, which helps manage complexity\n",
    "- When a pre-written procedure is called, you don’t necessarily need to know the details of this, just what it does and how to call it\n",
    "- Simply, procedural abstraction is naming and calling a **pre-written** procedure\n",
    "- Making sure to include the right arguments so the **procedure** can do what its supposed to do is crucial"
   ]
  },
  {
   "cell_type": "markdown",
   "metadata": {},
   "source": [
    "## Complexity Example\n",
    "\n",
    "One of the biggest advantages of procedural abstraction is managing complexity.\n",
    "\n",
    "Think about the process of simplifying the code?\n",
    "What do you think the advantage of the code segment on the left is?\n",
    "\n",
    "|Code Segment 1|Code Segment 2|\n",
    "|--------------|--------------|\n",
    "|ROTATE_LEFT()|detourLeft()|\n",
    "MOVE_FORWARD()|turnCorner()| \n",
    "ROTATE_RIGHT  |MOVE_FORWARD()| \n",
    "MOVE_FORWARD()|MOVE_FORWARD()|\n",
    "MOVE_FORWARD()\n",
    "ROTATE_RIGHT()\n",
    "MOVE_FORWARD()\n",
    "ROTATE_LEFT()\n",
    "MOVE_FORWARD()\n",
    "ROTATE_LEFT()\n",
    "MOVE_FORWARD()\n",
    "MOVE_FORWARD\n",
    "MOVE_FORWARD()"
   ]
  },
  {
   "attachments": {},
   "cell_type": "markdown",
   "metadata": {},
   "source": [
    "## Hacks\n",
    "\n",
    "- Write a python procedure about something which can help you in school, for example the teacher’s function we spoke about earlier.\n",
    "- Points will be awarded based on creativity and functionality\n",
    "- 0.1 points will be deducted for late submissions\n",
    "- Submit the notes with all blanks filled in (scored out of 0.5 points) and the python procedure (scored out of 0.5 points) by Monday 12/12 at 11:59 PM.\n"
   ]
  },
  {
   "cell_type": "code",
   "execution_count": 22,
   "metadata": {},
   "outputs": [
    {
     "name": "stdout",
     "output_type": "stream",
     "text": [
      "what day is it? type the first letter, or 'th' for thursday\n",
      "its wednesday\n",
      "what time is it?\n",
      "the time is:  10.15\n",
      "its 1st period\n"
     ]
    }
   ],
   "source": [
    "print(\"what day is it? type the first letter, or 'th' for thursday\")\n",
    "day = input ()\n",
    "if day == \"m\":\n",
    "    print(\"its monday\")\n",
    "elif day == \"t\": \n",
    "    print(\"its tuesday\")\n",
    "elif day == \"w\":\n",
    "    print(\"its wednesday\")\n",
    "elif day == \"th\":\n",
    "    print(\"its thursday\")\n",
    "elif day == \"f\": \n",
    "    print(\"its friday\")\n",
    "elif day == \"s\":\n",
    "    print(\"its the weekend! (what do you need the schedule for?)\")\n",
    "\n",
    "\n",
    "print(\"what time is it?\") #this only works if you write the time as a decimal because im not smart enough to do actual time\n",
    "time = float(input()) \n",
    "print(\"the time is: \", time)\n",
    "\n",
    "if time < 8.00:\n",
    "    time = time + 12\n",
    "\n",
    "\n",
    "def schedule(time):\n",
    "    if day == \"w\": #wednesday \n",
    "        if time < 9.55: \n",
    "            print(\"school has not started yet!\")\n",
    "        elif 9.55 <= time <= 10.53:\n",
    "            print(\"its 1st period\")\n",
    "        elif 10.58 <= time <= 11.56:\n",
    "            print(\"its 2nd period\")\n",
    "        elif 11.56 < time <= 12.06:\n",
    "            print(\"its break\")\n",
    "        elif 12.11 <= time <= 13.09: \n",
    "            print(\"its 3rd period\")\n",
    "        elif 13.09 < time <= 13.39:\n",
    "            print(\"its lunch\")\n",
    "        elif 13.44 <= time <= 14.42: \n",
    "            print(\"its 4th period\")\n",
    "        elif 14.47 <= time <= 15.45: \n",
    "            print(\"its 5th period\")\n",
    "        elif time > 15.45:\n",
    "            print(\"school is over :)\")\n",
    "        else:\n",
    "            print(\"its passing period\") \n",
    "    elif day == \"f\": #friday\n",
    "        if time < 8.35: \n",
    "            print(\"school has not started yet!\")\n",
    "        elif 8.35 <= time <= 9.49:\n",
    "            print(\"its 1st period\")\n",
    "        elif 9.54 <= time <= 11.08:\n",
    "            print(\"its 2nd period\")\n",
    "        elif 11.08 < time <= 11.18:\n",
    "            print(\"its break\")\n",
    "        elif 11.23 <= time <= 12.37: \n",
    "            print(\"its 3rd period\")\n",
    "        elif 12.37 < time <= 13.07:\n",
    "            print(\"its lunch\")\n",
    "        elif 13.12 <= time <= 14.26: \n",
    "            print(\"its 4th period\")\n",
    "        elif 14.31 <= time <= 15.45: \n",
    "            print(\"its 5th period\")\n",
    "        elif time > 15.45:\n",
    "            print(\"school is over :)\")\n",
    "        else:\n",
    "            print(\"its passing period\") \n",
    "    else:\n",
    "        if time < 8.35: \n",
    "            print(\"school has not started yet!\")\n",
    "        elif 8.35 <= time <= 9.44:\n",
    "            print(\"its 1st period\")\n",
    "        elif 9.49 <= time <= 10.58:\n",
    "            print(\"its 2nd period\")\n",
    "        elif 10.58 < time <= 11.08:\n",
    "            print(\"its break\")\n",
    "        elif 11.13 <= time <= 12.22: \n",
    "            print(\"its 3rd period\")\n",
    "        elif 12.22 < time <= 12.52:\n",
    "            print(\"its lunch\")\n",
    "        elif 12.57 <= time <= 14.06: \n",
    "            print(\"its 4th period\")\n",
    "        elif 14.06 < time <= 14.31: \n",
    "            print(\"its office hours\")\n",
    "        elif 14.36 < time <= 15.45: \n",
    "            print(\"its 5th period\")\n",
    "        elif time > 15.45:\n",
    "            print(\"school is over :)\")\n",
    "        else:\n",
    "            print(\"its passing period\")  \n",
    "            \n",
    "        \n",
    "schedule(time)\n"
   ]
  }
 ],
 "metadata": {
  "kernelspec": {
   "display_name": "Python 3.9.12 ('base')",
   "language": "python",
   "name": "python3"
  },
  "language_info": {
   "codemirror_mode": {
    "name": "ipython",
    "version": 3
   },
   "file_extension": ".py",
   "mimetype": "text/x-python",
   "name": "python",
   "nbconvert_exporter": "python",
   "pygments_lexer": "ipython3",
   "version": "3.9.12"
  },
  "orig_nbformat": 4,
  "vscode": {
   "interpreter": {
    "hash": "0f949f575de49a1a8cd4f0d30b0da0a6a4839cc972748a1d0962ff07d579e36d"
   }
  }
 },
 "nbformat": 4,
 "nbformat_minor": 2
}
