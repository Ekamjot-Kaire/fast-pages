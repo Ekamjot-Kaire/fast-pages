# Lists and Dictionaries
{
 "cells": [
  {
   "cell_type": "code",
   "execution_count": 41,
   "metadata": {},
   "outputs": [
    {
     "name": "stdout",
     "output_type": "stream",
     "text": [
      "Hello. Which dog breed would you like to know about?\n",
      "options: golden retriever, labrador, husky, border collie, german shepard\n",
      "error; please type in one of the options\n"
     ]
    }
   ],
   "source": [
    "print(\"Hello. Which dog breed would you like to know about?\")\n",
    "print(\"options: golden retriever, labrador, husky, border collie, german shepard\")\n",
    "\n",
    "#golden retriever \n",
    "GoldR_DB = {\n",
    "    \"Breed\": \"Golden Retriever\",\n",
    "    \"Life span\": \"10-12 years\",\n",
    "    \"Temperament\": [\"Intelligent, Reliable, Kind, Trustworthy\"],\n",
    "    \"Weight\": \"55-75 lbs\",\n",
    "    \"Height\": \"20-24 in\",\n",
    "}\n",
    "\n",
    "#labrador  \n",
    "Lab_DB = {\n",
    "    \"Breed\": \"Labrador\",\n",
    "    \"Life span\": \"10-12 years\",\n",
    "    \"Temperament\": [\"Outgoing, Agile, Intelligent, Trustworthy\"],\n",
    "    \"Weight\": \"55-71 lbs\",\n",
    "    \"Height\": \"22-24 in\",\n",
    "}\n",
    "\n",
    "#husky  \n",
    "Husky_DB = {\n",
    "    \"Breed\": \"Husky\",\n",
    "    \"Life span\": \"10-16 years\",\n",
    "    \"Temperament\": [\"Loyal, Playful, Intelligent, Friendly\"],\n",
    "    \"Weight\": \"44-66 lbs\",\n",
    "    \"Height\": \"22-24 in\",\n",
    "}\n",
    "\n",
    "#border collie \n",
    "BordColl_DB = {\n",
    "    \"Breed\" : \"Border Collie\",\n",
    "    \"Life span\" : \"10-17 years\",\n",
    "    \"Temperament\" : [\"Energetic, Keen, Alert, Athletic\"],\n",
    "    \"Weight\": \"27-45 lbs\",\n",
    "    \"Height\": \"19-22 in\",\n",
    "}\n",
    "\n",
    "#german shepard \n",
    "GermShep_DB = {\n",
    "    \"Breed\" : \"German Shepard\",\n",
    "    \"Life Span\" : \"9-13 years\",\n",
    "    \"Temperament\" : [\"Stubborn, Confident, Courageous, Protective\"],\n",
    "    \"Weight\" : \"49-71 lbs\",\n",
    "    \"Height\" : \"22-26 in\",\n",
    "}\n",
    "\n",
    "def users_pick(prompt):\n",
    "    msg = input()\n",
    "    return msg\n",
    "\n",
    "rsp = users_pick(\"enter breed here:\")\n",
    "if rsp == \"golden retriever\":\n",
    "    print(\" \")\n",
    "    print(\"Golden Retriever Info:\")\n",
    "    print(\" \")\n",
    "    for key, value in GoldR_DB.items():\n",
    "        print(key, \":\", value)\n",
    "elif rsp == \"labrador\":\n",
    "    print(\" \")\n",
    "    print(\"Labrador Info:\")\n",
    "    print(\" \")\n",
    "    for key, value in GoldR_DB.items():\n",
    "        print(key, \":\", value)\n",
    "elif rsp == \"husky\":\n",
    "    print(\" \")\n",
    "    print(\"Husky Info:\")\n",
    "    print(\" \")\n",
    "    for key, value in Husky_DB.items():\n",
    "        print(key, \":\", value)\n",
    "elif rsp == \"border collie\":\n",
    "    print(\" \")\n",
    "    print(\"Border Collie Info:\")\n",
    "    print(\" \")\n",
    "    for key, value in BordColl_DB.items():\n",
    "        print(key, \":\", value)\n",
    "elif rsp == \"german shepard\":\n",
    "    print(\" \")\n",
    "    print(\"German Shepard Info:\")\n",
    "    print(\" \")\n",
    "    for key, value in GermShep_DB.items():\n",
    "        print(key, \":\", value)\n",
    "else:\n",
    "    print(\"error; please type in one of the given options\")  \n",
    " "
   ]
  }
 ],
 "metadata": {
  "kernelspec": {
   "display_name": "Python 3.9.12 ('base')",
   "language": "python",
   "name": "python3"
  },
  "language_info": {
   "codemirror_mode": {
    "name": "ipython",
    "version": 3
   },
   "file_extension": ".py",
   "mimetype": "text/x-python",
   "name": "python",
   "nbconvert_exporter": "python",
   "pygments_lexer": "ipython3",
   "version": "3.9.12"
  },
  "orig_nbformat": 4,
  "vscode": {
   "interpreter": {
    "hash": "0f949f575de49a1a8cd4f0d30b0da0a6a4839cc972748a1d0962ff07d579e36d"
   }
  }
 },
 "nbformat": 4,
 "nbformat_minor": 2
}
