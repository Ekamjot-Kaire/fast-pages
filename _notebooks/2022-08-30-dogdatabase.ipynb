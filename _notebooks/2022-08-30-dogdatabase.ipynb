{
 "cells": [
  {
   "cell_type": "markdown",
   "metadata": {},
   "source": [
    "# Lists and Dictionaries Assignment "
   ]
  },
  {
   "cell_type": "code",
   "execution_count": 1,
   "metadata": {},
   "outputs": [
    {
     "name": "stdout",
     "output_type": "stream",
     "text": [
      "Hello. Which dog breed would you like to know about?\n",
      "options: golden retriever, labrador, husky, border collie, german shepard\n",
      " \n",
      "Golden Retriever Info:\n",
      " \n",
      "Breed : Golden Retriever\n",
      "Life span : 10-12 years\n",
      "Temperament : ['Intelligent, Reliable, Kind, Trustworthy']\n",
      "Weight : 55-75 lbs\n",
      "Height : 20-24 in\n"
     ]
    }
   ],
   "source": [
    "print(\"Hello. Which dog breed would you like to know about?\")\n",
    "print(\"options: golden retriever, labrador, husky, border collie, german shepard\")\n",
    "\n",
    "#golden retriever \n",
    "GoldR_DB = {\n",
    "    \"Breed\": \"Golden Retriever\",\n",
    "    \"Life span\": \"10-12 years\",\n",
    "    \"Temperament\": [\"Intelligent, Reliable, Kind, Trustworthy\"],\n",
    "    \"Weight\": \"55-75 lbs\",\n",
    "    \"Height\": \"20-24 in\",\n",
    "}\n",
    "\n",
    "#labrador  \n",
    "Lab_DB = {\n",
    "    \"Breed\": \"Labrador\",\n",
    "    \"Life span\": \"10-12 years\",\n",
    "    \"Temperament\": [\"Outgoing, Agile, Intelligent, Trustworthy\"],\n",
    "    \"Weight\": \"55-71 lbs\",\n",
    "    \"Height\": \"22-24 in\",\n",
    "}\n",
    "\n",
    "#husky  \n",
    "Husky_DB = {\n",
    "    \"Breed\": \"Husky\",\n",
    "    \"Life span\": \"10-16 years\",\n",
    "    \"Temperament\": [\"Loyal, Playful, Intelligent, Friendly\"],\n",
    "    \"Weight\": \"44-66 lbs\",\n",
    "    \"Height\": \"22-24 in\",\n",
    "}\n",
    "\n",
    "#border collie \n",
    "BordColl_DB = {\n",
    "    \"Breed\" : \"Border Collie\",\n",
    "    \"Life span\" : \"10-17 years\",\n",
    "    \"Temperament\" : [\"Energetic, Keen, Alert, Athletic\"],\n",
    "    \"Weight\": \"27-45 lbs\",\n",
    "    \"Height\": \"19-22 in\",\n",
    "}\n",
    "\n",
    "#german shepard \n",
    "GermShep_DB = {\n",
    "    \"Breed\" : \"German Shepard\",\n",
    "    \"Life Span\" : \"9-13 years\",\n",
    "    \"Temperament\" : [\"Stubborn, Confident, Courageous, Protective\"],\n",
    "    \"Weight\" : \"49-71 lbs\",\n",
    "    \"Height\" : \"22-26 in\",\n",
    "}\n",
    "\n",
    "def users_pick(prompt):\n",
    "    msg = input()\n",
    "    return msg\n",
    "\n",
    "#prints according to input \n",
    "rsp = users_pick(\"enter breed here:\")\n",
    "if rsp == \"golden retriever\": \n",
    "    print(\" \") \n",
    "    print(\"Golden Retriever Info:\")\n",
    "    print(\" \")\n",
    "    for key, value in GoldR_DB.items():\n",
    "        print(key, \":\", value)\n",
    "elif rsp == \"labrador\":\n",
    "    print(\" \")\n",
    "    print(\"Labrador Info:\")\n",
    "    print(\" \")\n",
    "    for key, value in GoldR_DB.items():\n",
    "        print(key, \":\", value)\n",
    "elif rsp == \"husky\":\n",
    "    print(\" \")\n",
    "    print(\"Husky Info:\")\n",
    "    print(\" \")\n",
    "    for key, value in Husky_DB.items():\n",
    "        print(key, \":\", value)\n",
    "elif rsp == \"border collie\":\n",
    "    print(\" \")\n",
    "    print(\"Border Collie Info:\")\n",
    "    print(\" \")\n",
    "    for key, value in BordColl_DB.items():\n",
    "        print(key, \":\", value)\n",
    "elif rsp == \"german shepard\":\n",
    "    print(\" \")\n",
    "    print(\"German Shepard Info:\")\n",
    "    print(\" \")\n",
    "    for key, value in GermShep_DB.items():\n",
    "        print(key, \":\", value)\n",
    "else:\n",
    "    print(\"error; please type in one of the given options\")  \n",
    " "
   ]
  }
 ],
 "metadata": {
  "kernelspec": {
   "display_name": "Python 3.10.6 64-bit",
   "language": "python",
   "name": "python3"
  },
  "language_info": {
   "codemirror_mode": {
    "name": "ipython",
    "version": 3
   },
   "file_extension": ".py",
   "mimetype": "text/x-python",
   "name": "python",
   "nbconvert_exporter": "python",
   "pygments_lexer": "ipython3",
   "version": "3.10.6"
  },
  "orig_nbformat": 4,
  "vscode": {
   "interpreter": {
    "hash": "aee8b7b246df8f9039afb4144a1f6fd8d2ca17a180786b69acc140d282b71a49"
   }
  }
 },
 "nbformat": 4,
 "nbformat_minor": 2
}
