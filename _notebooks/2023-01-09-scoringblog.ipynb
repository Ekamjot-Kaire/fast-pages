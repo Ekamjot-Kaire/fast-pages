{
 "cells": [
  {
   "attachments": {},
   "cell_type": "markdown",
   "metadata": {},
   "source": [
    "# College Board Scoring Assignment \n",
    "\n",
    "- title: College Board Scoring Assignment\n",
    "- toc: true\n",
    "- badges: false\n",
    "- categories: []"
   ]
  },
  {
   "attachments": {},
   "cell_type": "markdown",
   "metadata": {},
   "source": [
    "## Student 1: \n",
    "\n",
    "| Row: Category | My Score | Notes | \n",
    "| - | - | - | \n",
    "| 1: Program Purpose and Function | 0 | The video shows the function which is calculating info about a triangle. However, the written response talks about function, not purpose (<strong>College Board score: 0 </strong>)| \n",
    "| 2: Data Abstraction | 1 | The student showed code that defines a list, and code that uses the list in a useful way. The name of the list and the purpose is also included (<strong>College Board score: 1 </strong>)| \n",
    "| 3: Managing Complexity | 1 | This point was earned because the list organizes triangles into categories, which simplifies the process. The response also describes what would happen if the list was not used, and why it would be less practical (<strong>College Board score: 0 </strong>)| \n",
    "| 4: Procedural Abstraction | 1 | The procedure is defined and then used later in the student's code. The student also describes what the procedure is doing (<strong>College Board score: 1 </strong>) | \n",
    "| 5: Algorithm Implementation | 1 | Response 3c describes how the algorithm includes sequencing, iteration, and selection (<strong>College Board score: 1 </strong>) |\n",
    "| 6: Testing | 1 | The student describes what inputs are being added, why those specific inputs were chosen and what they are meant to test, and the outputs (<strong>College Board score: 1 </strong>) | \n",
    "\n",
    "<br>\n",
    "\n",
    "### Overall Score: 5/6 \n",
    "\n",
    "<br>\n",
    "\n",
    "### Differences Between My Score and College Board: \n",
    "\n",
    "- Row 3: I gave the student a 1, while College Board gave them a 0. This is because the list was not necessary for the program, and the explanation given for what would be done without the list is incomplete \n",
    "\n"
   ]
  }
 ],
 "metadata": {
  "kernelspec": {
   "display_name": "Python 3",
   "language": "python",
   "name": "python3"
  },
  "language_info": {
   "name": "python",
   "version": "3.10.6 (v3.10.6:9c7b4bd164, Aug  1 2022, 17:13:48) [Clang 13.0.0 (clang-1300.0.29.30)]"
  },
  "orig_nbformat": 4,
  "vscode": {
   "interpreter": {
    "hash": "aee8b7b246df8f9039afb4144a1f6fd8d2ca17a180786b69acc140d282b71a49"
   }
  }
 },
 "nbformat": 4,
 "nbformat_minor": 2
}
