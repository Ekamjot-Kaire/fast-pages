{
 "cells": [
  {
   "cell_type": "markdown",
   "metadata": {},
   "source": [
    "# JavaScript Notes"
   ]
  },
  {
   "cell_type": "markdown",
   "metadata": {},
   "source": [
    "Function: console.log():\n",
    "- string can be added into the brackets\n",
    "- the function outputs a message to the web console \n",
    "- only a single string can be inputted into function"
   ]
  },
  {
   "cell_type": "code",
   "execution_count": 1,
   "metadata": {
    "vscode": {
     "languageId": "javascript"
    }
   },
   "outputs": [
    {
     "name": "stdout",
     "output_type": "stream",
     "text": [
      "hello!\n"
     ]
    }
   ],
   "source": [
    "console.log(\"hello!\")"
   ]
  },
  {
   "cell_type": "markdown",
   "metadata": {},
   "source": [
    "Setting a variable: \n",
    "- \"var msg = \" captures data of the string (variable of string) \n",
    "- console.log shows output"
   ]
  },
  {
   "cell_type": "code",
   "execution_count": 2,
   "metadata": {
    "vscode": {
     "languageId": "javascript"
    }
   },
   "outputs": [
    {
     "name": "stdout",
     "output_type": "stream",
     "text": [
      "example message\n"
     ]
    }
   ],
   "source": [
    "//defining variable\n",
    "var msg = \"example message\";\n",
    "//logging message\n",
    "console.log(msg)"
   ]
  },
  {
   "cell_type": "markdown",
   "metadata": {},
   "source": [
    "Defining functions:\n",
    "- the following code has two steps: defining the function and calling the function"
   ]
  },
  {
   "cell_type": "code",
   "execution_count": 3,
   "metadata": {
    "vscode": {
     "languageId": "javascript"
    }
   },
   "outputs": [
    {
     "name": "stdout",
     "output_type": "stream",
     "text": [
      "example message\n"
     ]
    }
   ],
   "source": [
    "//defining function\n",
    "function logIt(output) {\n",
    "    console.log(output);\n",
    "}\n",
    "//calling function\n",
    "logIt(msg);"
   ]
  },
  {
   "cell_type": "markdown",
   "metadata": {},
   "source": [
    "JavaScript as a Dynamic (loosely typed) language: \n",
    "- dynamic/loosely typed means you don't have to specify what type of information will be stored in a variable beforehand \n",
    "- the variable type is determined while the code is running, which is similar to Python"
   ]
  },
  {
   "cell_type": "code",
   "execution_count": 5,
   "metadata": {
    "vscode": {
     "languageId": "javascript"
    }
   },
   "outputs": [
    {
     "name": "stdout",
     "output_type": "stream",
     "text": [
      "hello\n",
      "22\n",
      "[ 1, 2, 3 ]\n"
     ]
    }
   ],
   "source": [
    "//string:\n",
    "console.log(\"hello\")\n",
    "//number:\n",
    "console.log(22)\n",
    "//generic object: array (similar to python list)\n",
    "console.log([1,2,3])\n"
   ]
  }
 ],
 "metadata": {
  "kernelspec": {
   "display_name": "Python 3.10.6 64-bit",
   "language": "python",
   "name": "python3"
  },
  "language_info": {
   "file_extension": ".js",
   "mimetype": "application/javascript",
   "name": "python",
   "version": "3.10.6 (v3.10.6:9c7b4bd164, Aug  1 2022, 17:13:48) [Clang 13.0.0 (clang-1300.0.29.30)]"
  },
  "orig_nbformat": 4,
  "vscode": {
   "interpreter": {
    "hash": "aee8b7b246df8f9039afb4144a1f6fd8d2ca17a180786b69acc140d282b71a49"
   }
  }
 },
 "nbformat": 4,
 "nbformat_minor": 2
}
