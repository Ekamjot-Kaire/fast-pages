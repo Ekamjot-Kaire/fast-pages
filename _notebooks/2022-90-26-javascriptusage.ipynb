{
 "cells": [
  {
   "cell_type": "markdown",
   "metadata": {},
   "source": [
    "# JavaScript Basics Notes"
   ]
  },
  {
   "cell_type": "markdown",
   "metadata": {},
   "source": [
    "Function: console.log():\n",
    "- string can be added into the brackets\n",
    "- the function outputs a message to the web console \n",
    "- only a single string can be inputted into function"
   ]
  },
  {
   "cell_type": "code",
   "execution_count": 1,
   "metadata": {},
   "outputs": [
    {
     "name": "stdout",
     "output_type": "stream",
     "text": [
      "hello!\n"
     ]
    }
   ],
   "source": [
    "console.log(\"hello!\")"
   ]
  },
  {
   "cell_type": "markdown",
   "metadata": {},
   "source": [
    "Setting a variable: \n",
    "- \"var msg = \" captures data of the string (variable of string) \n",
    "- console.log shows output"
   ]
  },
  {
   "cell_type": "code",
   "execution_count": 2,
   "metadata": {},
   "outputs": [
    {
     "name": "stdout",
     "output_type": "stream",
     "text": [
      "example message\n"
     ]
    }
   ],
   "source": [
    "//defining variable\n",
    "var msg = \"example message\";\n",
    "//logging message\n",
    "console.log(msg)"
   ]
  },
  {
   "cell_type": "markdown",
   "metadata": {},
   "source": [
    "Defining functions:\n",
    "- the following code has two steps: defining the function and calling the function"
   ]
  },
  {
   "cell_type": "code",
   "execution_count": 3,
   "metadata": {},
   "outputs": [
    {
     "name": "stdout",
     "output_type": "stream",
     "text": [
      "example message\n"
     ]
    }
   ],
   "source": [
    "//defining function\n",
    "function logIt(output) {\n",
    "    console.log(output);\n",
    "}\n",
    "//calling function\n",
    "logIt(msg);"
   ]
  },
  {
   "cell_type": "markdown",
   "metadata": {},
   "source": [
    "JavaScript as a Dynamic (loosely typed) language: \n",
    "- dynamic/loosely typed means you don't have to specify what type of information will be stored in a variable beforehand \n",
    "- the variable type is determined while the code is running, which is similar to Python"
   ]
  },
  {
   "cell_type": "code",
   "execution_count": 5,
   "metadata": {},
   "outputs": [
    {
     "name": "stdout",
     "output_type": "stream",
     "text": [
      "hello\n",
      "22\n",
      "[ 1, 2, 3 ]\n"
     ]
    }
   ],
   "source": [
    "//string:\n",
    "console.log(\"hello\")\n",
    "//number:\n",
    "console.log(22)\n",
    "//generic object: array (similar to python list)\n",
    "console.log([1,2,3])\n"
   ]
  }
 ],
 "metadata": {
  "kernelspec": {
   "display_name": "JavaScript (Node.js)",
   "language": "javascript",
   "name": "javascript"
  },
  "language_info": {
   "file_extension": ".js",
   "mimetype": "application/javascript",
   "name": "javascript",
   "version": "10.13.0"
  },
  "orig_nbformat": 4
 },
 "nbformat": 4,
 "nbformat_minor": 2
}
