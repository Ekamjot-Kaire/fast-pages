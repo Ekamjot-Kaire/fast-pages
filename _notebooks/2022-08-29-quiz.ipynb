{
 "cells": [
  {
   "cell_type": "markdown",
   "metadata": {},
   "source": [
    "# Quiz"
   ]
  },
  {
   "cell_type": "code",
   "execution_count": 2,
   "metadata": {},
   "outputs": [
    {
     "name": "stdout",
     "output_type": "stream",
     "text": [
      "Welcome to the Frog quiz!\n",
      "You will be given 3 questions\n",
      "Question 1: How many toes does a poison dart frog have on each foot?\n",
      "correct!\n",
      "How many species of frog are there?\n",
      "wrong answer\n",
      "Can a frog play the violin?\n",
      "correct!\n"
     ]
    },
    {
     "ename": "TypeError",
     "evalue": "unsupported operand type(s) for +: 'int' and 'NoneType'",
     "output_type": "error",
     "traceback": [
      "\u001b[0;31m---------------------------------------------------------------------------\u001b[0m",
      "\u001b[0;31mTypeError\u001b[0m                                 Traceback (most recent call last)",
      "\u001b[1;32m/Users/ekamjotkaire/Desktop/fast-pages/_notebooks/2022-08-29-quiz.ipynb Cell 1\u001b[0m in \u001b[0;36m<cell line: 22>\u001b[0;34m()\u001b[0m\n\u001b[1;32m     <a href='vscode-notebook-cell:/Users/ekamjotkaire/Desktop/fast-pages/_notebooks/2022-08-29-quiz.ipynb#W0sZmlsZQ%3D%3D?line=18'>19</a>\u001b[0m \u001b[39mprint\u001b[39m(\u001b[39m\"\u001b[39m\u001b[39mCan a frog play the violin?\u001b[39m\u001b[39m\"\u001b[39m)\n\u001b[1;32m     <a href='vscode-notebook-cell:/Users/ekamjotkaire/Desktop/fast-pages/_notebooks/2022-08-29-quiz.ipynb#W0sZmlsZQ%3D%3D?line=19'>20</a>\u001b[0m score3 \u001b[39m=\u001b[39m testing(\u001b[39minput\u001b[39m(), \u001b[39m\"\u001b[39m\u001b[39mno\u001b[39m\u001b[39m\"\u001b[39m, score)\n\u001b[0;32m---> <a href='vscode-notebook-cell:/Users/ekamjotkaire/Desktop/fast-pages/_notebooks/2022-08-29-quiz.ipynb#W0sZmlsZQ%3D%3D?line=21'>22</a>\u001b[0m score \u001b[39m=\u001b[39m score1 \u001b[39m+\u001b[39;49m score2 \u001b[39m+\u001b[39m score3\n\u001b[1;32m     <a href='vscode-notebook-cell:/Users/ekamjotkaire/Desktop/fast-pages/_notebooks/2022-08-29-quiz.ipynb#W0sZmlsZQ%3D%3D?line=22'>23</a>\u001b[0m \u001b[39mprint\u001b[39m(score)\n",
      "\u001b[0;31mTypeError\u001b[0m: unsupported operand type(s) for +: 'int' and 'NoneType'"
     ]
    }
   ],
   "source": [
    "\n",
    "import getpass, sys\n",
    "\n",
    "print(\"Welcome to the Frog quiz!\")\n",
    "print(\"You will be given three questions\")\n",
    "score = 0\n",
    "\n",
    "def testing(input, answer, score):\n",
    "    if input == answer: \n",
    "        score = score + 1 \n",
    "        print(\"correct!\")\n",
    "        return score\n",
    "    else:\n",
    "        print(\"wrong answer\")\n",
    "        \n",
    "print(\"Question 1: How many toes does a poison dart frog have on each foot?\")        \n",
    "score1 = testing(input(), \"4\", score)\n",
    "print(\"How many species of frog are there?\")\n",
    "score2 = testing(input(), \"5000\", score)\n",
    "print(\"Can a frog play the violin?\")\n",
    "score3 = testing(input(), \"no\", score)\n",
    "\n",
    "score = score1 + score2 + score3\n",
    "print(score)"
   ]
  }
 ],
 "metadata": {
  "kernelspec": {
   "display_name": "Python 3.9.12 ('base')",
   "language": "python",
   "name": "python3"
  },
  "language_info": {
   "codemirror_mode": {
    "name": "ipython",
    "version": 3
   },
   "file_extension": ".py",
   "mimetype": "text/x-python",
   "name": "python",
   "nbconvert_exporter": "python",
   "pygments_lexer": "ipython3",
   "version": "3.9.12"
  },
  "orig_nbformat": 4,
  "vscode": {
   "interpreter": {
    "hash": "0f949f575de49a1a8cd4f0d30b0da0a6a4839cc972748a1d0962ff07d579e36d"
   }
  }
 },
 "nbformat": 4,
 "nbformat_minor": 2
}
