{
 "cells": [
  {
   "cell_type": "code",
   "execution_count": 3,
   "metadata": {},
   "outputs": [
    {
     "name": "stdout",
     "output_type": "stream",
     "text": [
      "Welcome to the Frog quiz\n",
      "You will be given 3 questions\n",
      "Question 1: How many toes does a poison dart frog have on each foot?\n"
     ]
    }
   ],
   "source": [
    "# Frog Quiz\n",
    "\n",
    "import getpass, sys\n",
    "\n",
    "print(\"Welcome to the Frog quiz\")\n",
    "print(\"You will be given 3 questions\")\n",
    "score = 0\n",
    "\n",
    "def testing(input, answer, score):\n",
    "    if input == answer: \n",
    "        score = score + 1 \n",
    "        print(\"correct!\")\n",
    "        return score\n",
    "    else:\n",
    "        print(\"wrong answer\")\n",
    "        \n",
    "print(\"Question 1: How many toes does a poison dart frog have on each foot?\")        \n",
    "score1 = testing(input(), \"4\", score)\n",
    "print(\"How many species of frog are there?\")\n",
    "score2 = testing(input(), \"5000\", score)\n",
    "print(\"Can a frog play the violin?\")\n",
    "score3 = testing(input(), \"no\", score)\n",
    "\n",
    "score = score1 + score2 + score3\n",
    "print(score)"
   ]
  }
 ],
 "metadata": {
  "kernelspec": {
   "display_name": "Python 3.10.6 64-bit",
   "language": "python",
   "name": "python3"
  },
  "language_info": {
   "codemirror_mode": {
    "name": "ipython",
    "version": 3
   },
   "file_extension": ".py",
   "mimetype": "text/x-python",
   "name": "python",
   "nbconvert_exporter": "python",
   "pygments_lexer": "ipython3",
   "version": "3.10.6"
  },
  "orig_nbformat": 4,
  "vscode": {
   "interpreter": {
    "hash": "aee8b7b246df8f9039afb4144a1f6fd8d2ca17a180786b69acc140d282b71a49"
   }
  }
 },
 "nbformat": 4,
 "nbformat_minor": 2
}
