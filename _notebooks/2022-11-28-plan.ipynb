{
 "cells": [
  {
   "cell_type": "markdown",
   "metadata": {},
   "source": [
    "# Tracking Variables \n",
    "\n",
    "Tracking variables is a common question found on AP exams, and is an important thing to keep in mind when writing any code. If the value of your variable changes a lot, not accounting for these changes can result in an unwanted outcome."
   ]
  },
  {
   "cell_type": "code",
   "execution_count": 6,
   "metadata": {},
   "outputs": [
    {
     "name": "stdout",
     "output_type": "stream",
     "text": [
      "12\n",
      "6\n",
      "12.0\n"
     ]
    }
   ],
   "source": [
    "var1 = 9\n",
    "var2 = 7\n",
    "var3 = 2\n",
    "\n",
    "#var1 = var1 + 5\n",
    "#var2 = var1 - var3\n",
    "#var1 = var2 \n",
    "#var3 = (var1 + var2)/2\n",
    "#var2 = 6\n",
    "\n",
    "print(var1)\n",
    "print(var2)\n",
    "print(var3)\n",
    "\n"
   ]
  },
  {
   "cell_type": "markdown",
   "metadata": {},
   "source": [
    "# Hacks (HW): \n",
    "\n",
    "Problem 1: What is the final outcome of the algorithm below?\n",
    "\n",
    "valueA <-- 4\n",
    "valueB <-- 90\n",
    "valueC <-- 17\n",
    "valueB <-- valueC - valueA \n",
    "valueA <-- valueA * 10\n",
    "if valueB > 10:\n",
    "    print(valueC)\n",
    "\n",
    "Problem 2: What is the final outcome of the algorithm below?\n",
    "\n",
    "type <-- \"curly\"\n",
    "color <-- \"brown\"\n",
    "length <-- \"short\" \n",
    "type <-- \"straight\" \n",
    "hair <-- type + color + length \n",
    "print(hair)\n",
    "\n",
    " \n",
    "\n",
    "\n",
    "\n",
    "\n",
    "\n",
    "\n"
   ]
  },
  {
   "cell_type": "code",
   "execution_count": null,
   "metadata": {},
   "outputs": [],
   "source": []
  }
 ],
 "metadata": {
  "kernelspec": {
   "display_name": "Python 3.10.6 64-bit",
   "language": "python",
   "name": "python3"
  },
  "language_info": {
   "codemirror_mode": {
    "name": "ipython",
    "version": 3
   },
   "file_extension": ".py",
   "mimetype": "text/x-python",
   "name": "python",
   "nbconvert_exporter": "python",
   "pygments_lexer": "ipython3",
   "version": "3.10.6"
  },
  "orig_nbformat": 4,
  "vscode": {
   "interpreter": {
    "hash": "aee8b7b246df8f9039afb4144a1f6fd8d2ca17a180786b69acc140d282b71a49"
   }
  }
 },
 "nbformat": 4,
 "nbformat_minor": 2
}
