{
 "cells": [
  {
   "cell_type": "markdown",
   "metadata": {},
   "source": [
    "# JavaScript Table"
   ]
  },
  {
   "cell_type": "code",
   "execution_count": 14,
   "metadata": {},
   "outputs": [],
   "source": [
    "// define a function to hold data for a Person\n",
    "function Person(name, ghID, job) {\n",
    "    this.name = name;\n",
    "    this.ghID = ghID;\n",
    "    this.job = job;\n",
    "    this.role = \"\";\n",
    "}\n",
    "\n",
    "// define a setter for role in Person data\n",
    "Person.prototype.setRole = function(role) {\n",
    "    this.role = role;\n",
    "}\n",
    "\n",
    "// define a JSON conversion \"method\" associated with Person\n",
    "Person.prototype.toJSON = function() {\n",
    "    const obj = {name: this.name, ghID: this.ghID, job: this.job, role: this.role};\n",
    "    const json = JSON.stringify(obj);\n",
    "    return json;\n",
    "}\n",
    "\n",
    "// make a new Person and assign to variable teacher\n",
    "var teacher = new Person(\"Mr Yeung\", \"jm1021\", \"none\");\n",
    "teacher.setRole(\"Teacher\");\n"
   ]
  },
  {
   "cell_type": "code",
   "execution_count": 15,
   "metadata": {},
   "outputs": [
    {
     "data": {
      "text/plain": [
       "Classroom {\n",
       "  teacher:\n",
       "   Person { name: 'Mr Yeung', ghID: 'jm1021', job: 'none', role: 'Teacher' },\n",
       "  classroom:\n",
       "   [ Person { name: 'Mr Yeung', ghID: 'jm1021', job: 'none', role: 'Teacher' },\n",
       "     Person {\n",
       "       name: 'Ishi',\n",
       "       ghID: 'Random-IGN',\n",
       "       job: 'Frontend Developer',\n",
       "       role: 'Team' },\n",
       "     Person {\n",
       "       name: 'Shreyas',\n",
       "       ghID: 'Henerystone',\n",
       "       job: 'Scrum Master',\n",
       "       role: 'Team' },\n",
       "     Person {\n",
       "       name: 'Lily',\n",
       "       ghID: 'lwu1822',\n",
       "       job: 'Backend Developer',\n",
       "       role: 'Team' },\n",
       "     Person {\n",
       "       name: 'Ekam',\n",
       "       ghID: 'Ekamjot-Kaire',\n",
       "       job: 'DevOps',\n",
       "       role: 'Team' } ],\n",
       "  team:\n",
       "   [ Person {\n",
       "       name: 'Ishi',\n",
       "       ghID: 'Random-IGN',\n",
       "       job: 'Frontend Developer',\n",
       "       role: 'Team' },\n",
       "     Person {\n",
       "       name: 'Shreyas',\n",
       "       ghID: 'Henerystone',\n",
       "       job: 'Scrum Master',\n",
       "       role: 'Team' },\n",
       "     Person {\n",
       "       name: 'Lily',\n",
       "       ghID: 'lwu1822',\n",
       "       job: 'Backend Developer',\n",
       "       role: 'Team' },\n",
       "     Person {\n",
       "       name: 'Ekam',\n",
       "       ghID: 'Ekamjot-Kaire',\n",
       "       job: 'DevOps',\n",
       "       role: 'Team' } ],\n",
       "  json:\n",
       "   [ '{\"name\":\"Mr Yeung\",\"ghID\":\"jm1021\",\"job\":\"none\",\"role\":\"Teacher\"}',\n",
       "     '{\"name\":\"Ishi\",\"ghID\":\"Random-IGN\",\"job\":\"Frontend Developer\",\"role\":\"Team\"}',\n",
       "     '{\"name\":\"Shreyas\",\"ghID\":\"Henerystone\",\"job\":\"Scrum Master\",\"role\":\"Team\"}',\n",
       "     '{\"name\":\"Lily\",\"ghID\":\"lwu1822\",\"job\":\"Backend Developer\",\"role\":\"Team\"}',\n",
       "     '{\"name\":\"Ekam\",\"ghID\":\"Ekamjot-Kaire\",\"job\":\"DevOps\",\"role\":\"Team\"}' ] }"
      ]
     },
     "execution_count": 15,
     "metadata": {},
     "output_type": "execute_result"
    }
   ],
   "source": [
    "// defining team \n",
    "var team = [ \n",
    "    new Person(\"Ishi\", \"Random-IGN\", \"Frontend Developer\"),\n",
    "    new Person(\"Shreyas\", \"Henerystone\", \"Scrum Master\"),\n",
    "    new Person(\"Lily\", \"lwu1822\", \"Backend Developer\"),\n",
    "    new Person(\"Ekam\", \"Ekamjot-Kaire\", \"DevOps\")\n",
    "];\n",
    "\n",
    "// define a classroom and build Classroom objects and json\n",
    "function Classroom(teacher, team){ // 1 teacher, many student\n",
    "    // start Classroom with Teacher\n",
    "    teacher.setRole(\"Teacher\");\n",
    "    this.teacher = teacher;\n",
    "    this.classroom = [teacher];\n",
    "    // add each team member to Classroom\n",
    "    this.team = team;\n",
    "    this.team.forEach(team => { team.setRole(\"Team\"); this.classroom.push(team); });\n",
    "    // build json/string format of Classroom\n",
    "    this.json = [];\n",
    "    this.classroom.forEach(person => this.json.push(person.toJSON()));\n",
    "}\n",
    "\n",
    "// make a CompSci classroom from formerly defined teacher and team members\n",
    "compsci = new Classroom(teacher, team);\n",
    "\n"
   ]
  },
  {
   "cell_type": "code",
   "execution_count": 18,
   "metadata": {},
   "outputs": [
    {
     "data": {
      "text/html": [
       "<div style='display:inline-block;background:black;border: 2px solid grey;box-shadow: 0.8em 0.4em 0.4em grey;'><table><tr><th><mark>Name</mark></th><th><mark>GitHub ID</mark></th><th><mark>Role</mark></th><th><mark>Type:</mark></th></tr><tr><td>Mr Yeung</td><td>jm1021</td><td>none</td><td>Teacher</td><tr><tr><td>Ishi</td><td>Random-IGN</td><td>Frontend Developer</td><td>Team</td><tr><tr><td>Shreyas</td><td>Henerystone</td><td>Scrum Master</td><td>Team</td><tr><tr><td>Lily</td><td>lwu1822</td><td>Backend Developer</td><td>Team</td><tr><tr><td>Ekam</td><td>Ekamjot-Kaire</td><td>DevOps</td><td>Team</td><tr></table></div>"
      ]
     },
     "execution_count": 18,
     "metadata": {},
     "output_type": "execute_result"
    }
   ],
   "source": [
    "// define an HTML conversion \"method\" associated with Classroom\n",
    "Classroom.prototype._toHtml = function() {\n",
    "    // HTML Style is build using inline structure\n",
    "    var style = (\n",
    "      \"display:inline-block;\" +\n",
    "      \"background:black;\" +\n",
    "      \"border: 2px solid grey;\" +\n",
    "      \"box-shadow: 0.8em 0.4em 0.4em grey;\"\n",
    "    );\n",
    "  \n",
    "    // HTML Body of Table is build as a series of concatenations (+=)\n",
    "    var body = \"\";\n",
    "    // Heading for Array Columns\n",
    "    body += \"<tr>\";\n",
    "    body += \"<th><mark>\" + \"Name\" + \"</mark></th>\";\n",
    "    body += \"<th><mark>\" + \"GitHub ID\" + \"</mark></th>\";\n",
    "    body += \"<th><mark>\" + \"Role\" + \"</mark></th>\";\n",
    "    body += \"<th><mark>\" + \"Type:\" + \"</mark></th>\";\n",
    "    body += \"</tr>\";\n",
    "    // Data of Array, iterate through each row of compsci.classroom \n",
    "    for (var row of compsci.classroom) {\n",
    "      // tr for each row, a new line\n",
    "      body += \"<tr>\";\n",
    "      // td for each column of data\n",
    "      body += \"<td>\" + row.name + \"</td>\";\n",
    "      body += \"<td>\" + row.ghID + \"</td>\";\n",
    "      body += \"<td>\" + row.job + \"</td>\";\n",
    "      body += \"<td>\" + row.role + \"</td>\";\n",
    "      // tr to end line\n",
    "      body += \"<tr>\";\n",
    "    }\n",
    "  \n",
    "     // Build and HTML fragment of div, table, table body\n",
    "    return (\n",
    "      \"<div style='\" + style + \"'>\" +\n",
    "        \"<table>\" +\n",
    "          body +\n",
    "        \"</table>\" +\n",
    "      \"</div>\"\n",
    "    );\n",
    "  \n",
    "  };\n",
    "  \n",
    "  // IJavaScript HTML processor receive parameter of defined HTML fragment\n",
    "  $$.html(compsci._toHtml());"
   ]
  }
 ],
 "metadata": {
  "kernelspec": {
   "display_name": "JavaScript (Node.js)",
   "language": "javascript",
   "name": "javascript"
  },
  "language_info": {
   "file_extension": ".js",
   "mimetype": "application/javascript",
   "name": "javascript",
   "version": "10.13.0"
  },
  "orig_nbformat": 4
 },
 "nbformat": 4,
 "nbformat_minor": 2
}
